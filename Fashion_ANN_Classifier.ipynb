{
  "nbformat": 4,
  "nbformat_minor": 0,
  "metadata": {
    "colab": {
      "provenance": [],
      "authorship_tag": "ABX9TyO0hzx10XBT4jKF8Y7fkzV/",
      "include_colab_link": true
    },
    "kernelspec": {
      "name": "python3",
      "display_name": "Python 3"
    },
    "language_info": {
      "name": "python"
    }
  },
  "cells": [
    {
      "cell_type": "markdown",
      "metadata": {
        "id": "view-in-github",
        "colab_type": "text"
      },
      "source": [
        "<a href=\"https://colab.research.google.com/github/princeKike27/Fashion-ANN-Classifier/blob/main/Fashion_ANN_Classifier.ipynb\" target=\"_parent\"><img src=\"https://colab.research.google.com/assets/colab-badge.svg\" alt=\"Open In Colab\"/></a>"
      ]
    },
    {
      "cell_type": "markdown",
      "source": [
        "# Fashion Classifier\n",
        "\n",
        "- Using NumPy I’m going to build a Neural Network that classifies fashion articles from the Fashion MNIST dataset. The Fashion MNIST dataset consists of thousands of images of ten different fashion articles. I will create the Neural Network Architecture, perform Forward Propagation, find the Gradients of the Parameters using Backward Propagation, find the Best Parameters  and get the Predictions and Accuracy of the Neural Network.\n",
        "\n",
        "<br>\n",
        "\n",
        "- The 10 fashion articles classes are:\n",
        "  - $0 ⟶ $ *T-shirt / Top* \n",
        "  - $1 ⟶ $ *Trouser* \n",
        "  - $2 ⟶ $ *Pullover* \n",
        "  - $3 ⟶ $ *Dress*\n",
        "  - $4 ⟶ $ *Coat*  \n",
        "  - $5 ⟶ $ *Sandal*\n",
        "  - $6 ⟶ $ *Shirt*\n",
        "  - $7 ⟶ $ *Sneaker*\n",
        "  - $8 ⟶ $ *Bag*\n",
        "  - $9 ⟶ $ *Ankle Boot*     \n",
        "  \n",
        "\n",
        "\n",
        "\n"
      ],
      "metadata": {
        "id": "vQfOQnzjReFW"
      }
    },
    {
      "cell_type": "code",
      "source": [
        "# import modules\n",
        "import pandas as pd\n",
        "import numpy as np\n",
        "import matplotlib.pyplot as plt\n",
        "import seaborn as sns\n",
        "\n",
        "# set style\n",
        "sns.set()"
      ],
      "metadata": {
        "id": "mcut_0EUTxT9"
      },
      "execution_count": null,
      "outputs": []
    },
    {
      "cell_type": "markdown",
      "source": [
        "![green-divider](https://user-images.githubusercontent.com/7065401/52071924-c003ad80-2562-11e9-8297-1c6595f8a7ff.png)"
      ],
      "metadata": {
        "id": "YoVcBthfTYmi"
      }
    },
    {
      "cell_type": "markdown",
      "source": [
        "## Loading Data from Google Drive"
      ],
      "metadata": {
        "id": "c7f98goVTZAr"
      }
    },
    {
      "cell_type": "code",
      "source": [
        "# connect to google drive\n",
        "from google.colab import drive\n",
        "\n",
        "drive.mount('/content/gdrive', force_remount=True)"
      ],
      "metadata": {
        "colab": {
          "base_uri": "https://localhost:8080/"
        },
        "id": "vpiGT7xJTb2R",
        "outputId": "74f20062-95ee-49e8-deb6-b7b08cc2c468"
      },
      "execution_count": null,
      "outputs": [
        {
          "output_type": "stream",
          "name": "stdout",
          "text": [
            "Mounted at /content/gdrive\n"
          ]
        }
      ]
    },
    {
      "cell_type": "code",
      "source": [
        "# go to Project Dir\n",
        "%cd '/content/gdrive/My Drive/Data Science/Projects/Portafolio/Fashion Classifier'\n",
        "\n",
        "# check contents of dir\n",
        "%ls"
      ],
      "metadata": {
        "colab": {
          "base_uri": "https://localhost:8080/"
        },
        "id": "J3FIy_UlTd8a",
        "outputId": "c69854cb-50b4-4bad-9e3d-83380c3f6810"
      },
      "execution_count": null,
      "outputs": [
        {
          "output_type": "stream",
          "name": "stdout",
          "text": [
            "/content/gdrive/My Drive/Data Science/Projects/Portafolio/Fashion Classifier\n",
            "'Fashion ANN-Classifier.ipynb'   fashion-mnist.csv\n"
          ]
        }
      ]
    },
    {
      "cell_type": "markdown",
      "source": [
        "![green-divider](https://user-images.githubusercontent.com/7065401/52071924-c003ad80-2562-11e9-8297-1c6595f8a7ff.png)"
      ],
      "metadata": {
        "id": "IiqjY6pQUACD"
      }
    },
    {
      "cell_type": "markdown",
      "source": [
        "## Fashion Data\n",
        "\n",
        "- Each image is $784$ pixels, $28$ pixels $\\times$  $28$ pixels\n",
        "\n",
        "  - Each pixel can take values between $0$ to $255$\n",
        "    - $0 ⟶$ Completely Black\n",
        "    - $255 ⟶$ Completely White"
      ],
      "metadata": {
        "id": "mX9aDWzSUAvd"
      }
    },
    {
      "cell_type": "code",
      "source": [
        "# load data\n",
        "fashion = pd.read_csv('fashion-mnist.csv', sep=';')\n",
        "\n",
        "fashion"
      ],
      "metadata": {
        "colab": {
          "base_uri": "https://localhost:8080/",
          "height": 488
        },
        "id": "3DDdUg3eUDzz",
        "outputId": "279976a1-33b4-4653-dfa1-f3d4c49a6713"
      },
      "execution_count": null,
      "outputs": [
        {
          "output_type": "execute_result",
          "data": {
            "text/plain": [
              "       label  pixel1  pixel2  pixel3  pixel4  pixel5  pixel6  pixel7  pixel8  \\\n",
              "0          2       0       0       0       0       0       0       0       0   \n",
              "1          9       0       0       0       0       0       0       0       0   \n",
              "2          6       0       0       0       0       0       0       0       5   \n",
              "3          0       0       0       0       1       2       0       0       0   \n",
              "4          3       0       0       0       0       0       0       0       0   \n",
              "...      ...     ...     ...     ...     ...     ...     ...     ...     ...   \n",
              "59995      9       0       0       0       0       0       0       0       0   \n",
              "59996      1       0       0       0       0       0       0       0       0   \n",
              "59997      8       0       0       0       0       0       0       0       0   \n",
              "59998      8       0       0       0       0       0       0       0       0   \n",
              "59999      7       0       0       0       0       0       0       0       0   \n",
              "\n",
              "       pixel9  ...  pixel775  pixel776  pixel777  pixel778  pixel779  \\\n",
              "0           0  ...         0         0         0         0         0   \n",
              "1           0  ...         0         0         0         0         0   \n",
              "2           0  ...         0         0         0        30        43   \n",
              "3           0  ...         3         0         0         0         0   \n",
              "4           0  ...         0         0         0         0         0   \n",
              "...       ...  ...       ...       ...       ...       ...       ...   \n",
              "59995       0  ...         0         0         0         0         0   \n",
              "59996       0  ...        73         0         0         0         0   \n",
              "59997       0  ...       160       162       163       135        94   \n",
              "59998       0  ...         0         0         0         0         0   \n",
              "59999       0  ...         0         0         0         0         0   \n",
              "\n",
              "       pixel780  pixel781  pixel782  pixel783  pixel784  \n",
              "0             0         0         0         0         0  \n",
              "1             0         0         0         0         0  \n",
              "2             0         0         0         0         0  \n",
              "3             1         0         0         0         0  \n",
              "4             0         0         0         0         0  \n",
              "...         ...       ...       ...       ...       ...  \n",
              "59995         0         0         0         0         0  \n",
              "59996         0         0         0         0         0  \n",
              "59997         0         0         0         0         0  \n",
              "59998         0         0         0         0         0  \n",
              "59999         0         0         0         0         0  \n",
              "\n",
              "[60000 rows x 785 columns]"
            ],
            "text/html": [
              "\n",
              "  <div id=\"df-2ef04691-0131-49e8-9ec9-d0a67a2647b7\">\n",
              "    <div class=\"colab-df-container\">\n",
              "      <div>\n",
              "<style scoped>\n",
              "    .dataframe tbody tr th:only-of-type {\n",
              "        vertical-align: middle;\n",
              "    }\n",
              "\n",
              "    .dataframe tbody tr th {\n",
              "        vertical-align: top;\n",
              "    }\n",
              "\n",
              "    .dataframe thead th {\n",
              "        text-align: right;\n",
              "    }\n",
              "</style>\n",
              "<table border=\"1\" class=\"dataframe\">\n",
              "  <thead>\n",
              "    <tr style=\"text-align: right;\">\n",
              "      <th></th>\n",
              "      <th>label</th>\n",
              "      <th>pixel1</th>\n",
              "      <th>pixel2</th>\n",
              "      <th>pixel3</th>\n",
              "      <th>pixel4</th>\n",
              "      <th>pixel5</th>\n",
              "      <th>pixel6</th>\n",
              "      <th>pixel7</th>\n",
              "      <th>pixel8</th>\n",
              "      <th>pixel9</th>\n",
              "      <th>...</th>\n",
              "      <th>pixel775</th>\n",
              "      <th>pixel776</th>\n",
              "      <th>pixel777</th>\n",
              "      <th>pixel778</th>\n",
              "      <th>pixel779</th>\n",
              "      <th>pixel780</th>\n",
              "      <th>pixel781</th>\n",
              "      <th>pixel782</th>\n",
              "      <th>pixel783</th>\n",
              "      <th>pixel784</th>\n",
              "    </tr>\n",
              "  </thead>\n",
              "  <tbody>\n",
              "    <tr>\n",
              "      <th>0</th>\n",
              "      <td>2</td>\n",
              "      <td>0</td>\n",
              "      <td>0</td>\n",
              "      <td>0</td>\n",
              "      <td>0</td>\n",
              "      <td>0</td>\n",
              "      <td>0</td>\n",
              "      <td>0</td>\n",
              "      <td>0</td>\n",
              "      <td>0</td>\n",
              "      <td>...</td>\n",
              "      <td>0</td>\n",
              "      <td>0</td>\n",
              "      <td>0</td>\n",
              "      <td>0</td>\n",
              "      <td>0</td>\n",
              "      <td>0</td>\n",
              "      <td>0</td>\n",
              "      <td>0</td>\n",
              "      <td>0</td>\n",
              "      <td>0</td>\n",
              "    </tr>\n",
              "    <tr>\n",
              "      <th>1</th>\n",
              "      <td>9</td>\n",
              "      <td>0</td>\n",
              "      <td>0</td>\n",
              "      <td>0</td>\n",
              "      <td>0</td>\n",
              "      <td>0</td>\n",
              "      <td>0</td>\n",
              "      <td>0</td>\n",
              "      <td>0</td>\n",
              "      <td>0</td>\n",
              "      <td>...</td>\n",
              "      <td>0</td>\n",
              "      <td>0</td>\n",
              "      <td>0</td>\n",
              "      <td>0</td>\n",
              "      <td>0</td>\n",
              "      <td>0</td>\n",
              "      <td>0</td>\n",
              "      <td>0</td>\n",
              "      <td>0</td>\n",
              "      <td>0</td>\n",
              "    </tr>\n",
              "    <tr>\n",
              "      <th>2</th>\n",
              "      <td>6</td>\n",
              "      <td>0</td>\n",
              "      <td>0</td>\n",
              "      <td>0</td>\n",
              "      <td>0</td>\n",
              "      <td>0</td>\n",
              "      <td>0</td>\n",
              "      <td>0</td>\n",
              "      <td>5</td>\n",
              "      <td>0</td>\n",
              "      <td>...</td>\n",
              "      <td>0</td>\n",
              "      <td>0</td>\n",
              "      <td>0</td>\n",
              "      <td>30</td>\n",
              "      <td>43</td>\n",
              "      <td>0</td>\n",
              "      <td>0</td>\n",
              "      <td>0</td>\n",
              "      <td>0</td>\n",
              "      <td>0</td>\n",
              "    </tr>\n",
              "    <tr>\n",
              "      <th>3</th>\n",
              "      <td>0</td>\n",
              "      <td>0</td>\n",
              "      <td>0</td>\n",
              "      <td>0</td>\n",
              "      <td>1</td>\n",
              "      <td>2</td>\n",
              "      <td>0</td>\n",
              "      <td>0</td>\n",
              "      <td>0</td>\n",
              "      <td>0</td>\n",
              "      <td>...</td>\n",
              "      <td>3</td>\n",
              "      <td>0</td>\n",
              "      <td>0</td>\n",
              "      <td>0</td>\n",
              "      <td>0</td>\n",
              "      <td>1</td>\n",
              "      <td>0</td>\n",
              "      <td>0</td>\n",
              "      <td>0</td>\n",
              "      <td>0</td>\n",
              "    </tr>\n",
              "    <tr>\n",
              "      <th>4</th>\n",
              "      <td>3</td>\n",
              "      <td>0</td>\n",
              "      <td>0</td>\n",
              "      <td>0</td>\n",
              "      <td>0</td>\n",
              "      <td>0</td>\n",
              "      <td>0</td>\n",
              "      <td>0</td>\n",
              "      <td>0</td>\n",
              "      <td>0</td>\n",
              "      <td>...</td>\n",
              "      <td>0</td>\n",
              "      <td>0</td>\n",
              "      <td>0</td>\n",
              "      <td>0</td>\n",
              "      <td>0</td>\n",
              "      <td>0</td>\n",
              "      <td>0</td>\n",
              "      <td>0</td>\n",
              "      <td>0</td>\n",
              "      <td>0</td>\n",
              "    </tr>\n",
              "    <tr>\n",
              "      <th>...</th>\n",
              "      <td>...</td>\n",
              "      <td>...</td>\n",
              "      <td>...</td>\n",
              "      <td>...</td>\n",
              "      <td>...</td>\n",
              "      <td>...</td>\n",
              "      <td>...</td>\n",
              "      <td>...</td>\n",
              "      <td>...</td>\n",
              "      <td>...</td>\n",
              "      <td>...</td>\n",
              "      <td>...</td>\n",
              "      <td>...</td>\n",
              "      <td>...</td>\n",
              "      <td>...</td>\n",
              "      <td>...</td>\n",
              "      <td>...</td>\n",
              "      <td>...</td>\n",
              "      <td>...</td>\n",
              "      <td>...</td>\n",
              "      <td>...</td>\n",
              "    </tr>\n",
              "    <tr>\n",
              "      <th>59995</th>\n",
              "      <td>9</td>\n",
              "      <td>0</td>\n",
              "      <td>0</td>\n",
              "      <td>0</td>\n",
              "      <td>0</td>\n",
              "      <td>0</td>\n",
              "      <td>0</td>\n",
              "      <td>0</td>\n",
              "      <td>0</td>\n",
              "      <td>0</td>\n",
              "      <td>...</td>\n",
              "      <td>0</td>\n",
              "      <td>0</td>\n",
              "      <td>0</td>\n",
              "      <td>0</td>\n",
              "      <td>0</td>\n",
              "      <td>0</td>\n",
              "      <td>0</td>\n",
              "      <td>0</td>\n",
              "      <td>0</td>\n",
              "      <td>0</td>\n",
              "    </tr>\n",
              "    <tr>\n",
              "      <th>59996</th>\n",
              "      <td>1</td>\n",
              "      <td>0</td>\n",
              "      <td>0</td>\n",
              "      <td>0</td>\n",
              "      <td>0</td>\n",
              "      <td>0</td>\n",
              "      <td>0</td>\n",
              "      <td>0</td>\n",
              "      <td>0</td>\n",
              "      <td>0</td>\n",
              "      <td>...</td>\n",
              "      <td>73</td>\n",
              "      <td>0</td>\n",
              "      <td>0</td>\n",
              "      <td>0</td>\n",
              "      <td>0</td>\n",
              "      <td>0</td>\n",
              "      <td>0</td>\n",
              "      <td>0</td>\n",
              "      <td>0</td>\n",
              "      <td>0</td>\n",
              "    </tr>\n",
              "    <tr>\n",
              "      <th>59997</th>\n",
              "      <td>8</td>\n",
              "      <td>0</td>\n",
              "      <td>0</td>\n",
              "      <td>0</td>\n",
              "      <td>0</td>\n",
              "      <td>0</td>\n",
              "      <td>0</td>\n",
              "      <td>0</td>\n",
              "      <td>0</td>\n",
              "      <td>0</td>\n",
              "      <td>...</td>\n",
              "      <td>160</td>\n",
              "      <td>162</td>\n",
              "      <td>163</td>\n",
              "      <td>135</td>\n",
              "      <td>94</td>\n",
              "      <td>0</td>\n",
              "      <td>0</td>\n",
              "      <td>0</td>\n",
              "      <td>0</td>\n",
              "      <td>0</td>\n",
              "    </tr>\n",
              "    <tr>\n",
              "      <th>59998</th>\n",
              "      <td>8</td>\n",
              "      <td>0</td>\n",
              "      <td>0</td>\n",
              "      <td>0</td>\n",
              "      <td>0</td>\n",
              "      <td>0</td>\n",
              "      <td>0</td>\n",
              "      <td>0</td>\n",
              "      <td>0</td>\n",
              "      <td>0</td>\n",
              "      <td>...</td>\n",
              "      <td>0</td>\n",
              "      <td>0</td>\n",
              "      <td>0</td>\n",
              "      <td>0</td>\n",
              "      <td>0</td>\n",
              "      <td>0</td>\n",
              "      <td>0</td>\n",
              "      <td>0</td>\n",
              "      <td>0</td>\n",
              "      <td>0</td>\n",
              "    </tr>\n",
              "    <tr>\n",
              "      <th>59999</th>\n",
              "      <td>7</td>\n",
              "      <td>0</td>\n",
              "      <td>0</td>\n",
              "      <td>0</td>\n",
              "      <td>0</td>\n",
              "      <td>0</td>\n",
              "      <td>0</td>\n",
              "      <td>0</td>\n",
              "      <td>0</td>\n",
              "      <td>0</td>\n",
              "      <td>...</td>\n",
              "      <td>0</td>\n",
              "      <td>0</td>\n",
              "      <td>0</td>\n",
              "      <td>0</td>\n",
              "      <td>0</td>\n",
              "      <td>0</td>\n",
              "      <td>0</td>\n",
              "      <td>0</td>\n",
              "      <td>0</td>\n",
              "      <td>0</td>\n",
              "    </tr>\n",
              "  </tbody>\n",
              "</table>\n",
              "<p>60000 rows × 785 columns</p>\n",
              "</div>\n",
              "      <button class=\"colab-df-convert\" onclick=\"convertToInteractive('df-2ef04691-0131-49e8-9ec9-d0a67a2647b7')\"\n",
              "              title=\"Convert this dataframe to an interactive table.\"\n",
              "              style=\"display:none;\">\n",
              "        \n",
              "  <svg xmlns=\"http://www.w3.org/2000/svg\" height=\"24px\"viewBox=\"0 0 24 24\"\n",
              "       width=\"24px\">\n",
              "    <path d=\"M0 0h24v24H0V0z\" fill=\"none\"/>\n",
              "    <path d=\"M18.56 5.44l.94 2.06.94-2.06 2.06-.94-2.06-.94-.94-2.06-.94 2.06-2.06.94zm-11 1L8.5 8.5l.94-2.06 2.06-.94-2.06-.94L8.5 2.5l-.94 2.06-2.06.94zm10 10l.94 2.06.94-2.06 2.06-.94-2.06-.94-.94-2.06-.94 2.06-2.06.94z\"/><path d=\"M17.41 7.96l-1.37-1.37c-.4-.4-.92-.59-1.43-.59-.52 0-1.04.2-1.43.59L10.3 9.45l-7.72 7.72c-.78.78-.78 2.05 0 2.83L4 21.41c.39.39.9.59 1.41.59.51 0 1.02-.2 1.41-.59l7.78-7.78 2.81-2.81c.8-.78.8-2.07 0-2.86zM5.41 20L4 18.59l7.72-7.72 1.47 1.35L5.41 20z\"/>\n",
              "  </svg>\n",
              "      </button>\n",
              "      \n",
              "  <style>\n",
              "    .colab-df-container {\n",
              "      display:flex;\n",
              "      flex-wrap:wrap;\n",
              "      gap: 12px;\n",
              "    }\n",
              "\n",
              "    .colab-df-convert {\n",
              "      background-color: #E8F0FE;\n",
              "      border: none;\n",
              "      border-radius: 50%;\n",
              "      cursor: pointer;\n",
              "      display: none;\n",
              "      fill: #1967D2;\n",
              "      height: 32px;\n",
              "      padding: 0 0 0 0;\n",
              "      width: 32px;\n",
              "    }\n",
              "\n",
              "    .colab-df-convert:hover {\n",
              "      background-color: #E2EBFA;\n",
              "      box-shadow: 0px 1px 2px rgba(60, 64, 67, 0.3), 0px 1px 3px 1px rgba(60, 64, 67, 0.15);\n",
              "      fill: #174EA6;\n",
              "    }\n",
              "\n",
              "    [theme=dark] .colab-df-convert {\n",
              "      background-color: #3B4455;\n",
              "      fill: #D2E3FC;\n",
              "    }\n",
              "\n",
              "    [theme=dark] .colab-df-convert:hover {\n",
              "      background-color: #434B5C;\n",
              "      box-shadow: 0px 1px 3px 1px rgba(0, 0, 0, 0.15);\n",
              "      filter: drop-shadow(0px 1px 2px rgba(0, 0, 0, 0.3));\n",
              "      fill: #FFFFFF;\n",
              "    }\n",
              "  </style>\n",
              "\n",
              "      <script>\n",
              "        const buttonEl =\n",
              "          document.querySelector('#df-2ef04691-0131-49e8-9ec9-d0a67a2647b7 button.colab-df-convert');\n",
              "        buttonEl.style.display =\n",
              "          google.colab.kernel.accessAllowed ? 'block' : 'none';\n",
              "\n",
              "        async function convertToInteractive(key) {\n",
              "          const element = document.querySelector('#df-2ef04691-0131-49e8-9ec9-d0a67a2647b7');\n",
              "          const dataTable =\n",
              "            await google.colab.kernel.invokeFunction('convertToInteractive',\n",
              "                                                     [key], {});\n",
              "          if (!dataTable) return;\n",
              "\n",
              "          const docLinkHtml = 'Like what you see? Visit the ' +\n",
              "            '<a target=\"_blank\" href=https://colab.research.google.com/notebooks/data_table.ipynb>data table notebook</a>'\n",
              "            + ' to learn more about interactive tables.';\n",
              "          element.innerHTML = '';\n",
              "          dataTable['output_type'] = 'display_data';\n",
              "          await google.colab.output.renderOutput(dataTable, element);\n",
              "          const docLink = document.createElement('div');\n",
              "          docLink.innerHTML = docLinkHtml;\n",
              "          element.appendChild(docLink);\n",
              "        }\n",
              "      </script>\n",
              "    </div>\n",
              "  </div>\n",
              "  "
            ]
          },
          "metadata": {},
          "execution_count": 4
        }
      ]
    },
    {
      "cell_type": "code",
      "source": [
        "# function that returns class name\n",
        "def class_name(label):\n",
        "\n",
        "  # list of class names\n",
        "  classes = ['T-shirt/Top', 'Trouser', 'Pullover', 'Dress', 'Coat', 'Sandal', 'Shirt',\n",
        "             'Sneaker', 'Bag', 'Ankle Boot']\n",
        "\n",
        "  return classes[label]      \n"
      ],
      "metadata": {
        "id": "OF8x7qLTX6Mi"
      },
      "execution_count": null,
      "outputs": []
    },
    {
      "cell_type": "code",
      "source": [
        "# choose an image\n",
        "img = np.array(fashion.iloc[1137, 1:])\n",
        "\n",
        "# reshape image >> 28 x 28\n",
        "img = img.reshape(28, 28)\n",
        "\n",
        "# print label\n",
        "print(f'Label: {class_name(fashion.iloc[1137, 0])}', '\\n')\n",
        "\n",
        "# display image\n",
        "plt.imshow(img, interpolation='nearest', cmap='gray')\n",
        "plt.grid(None)\n",
        "\n",
        "plt.show()"
      ],
      "metadata": {
        "colab": {
          "base_uri": "https://localhost:8080/",
          "height": 470
        },
        "id": "BLfrr2sKVKDa",
        "outputId": "4c55f8dc-828a-450a-8688-9f833e136b6b"
      },
      "execution_count": null,
      "outputs": [
        {
          "output_type": "stream",
          "name": "stdout",
          "text": [
            "Label: Coat \n",
            "\n"
          ]
        },
        {
          "output_type": "display_data",
          "data": {
            "text/plain": [
              "<Figure size 640x480 with 1 Axes>"
            ],
            "image/png": "[encoded data removed]"
          },
          "metadata": {}
        }
      ]
    },
    {
      "cell_type": "markdown",
      "source": [
        "![green-divider](https://user-images.githubusercontent.com/7065401/52071924-c003ad80-2562-11e9-8297-1c6595f8a7ff.png)"
      ],
      "metadata": {
        "id": "vMupR7ZLRect"
      }
    },
    {
      "cell_type": "markdown",
      "source": [
        "## Train Test Split\n",
        "\n",
        "- We are going to *Shuffle Randomly* the Dataset and split it in two:\n",
        "\n",
        "  - Training ⟶ 80% of Data ⟶ 48,000 training examples\n",
        "\n",
        "  - Test ⟶ 20% of Data ⟶ 12,000 test examples"
      ],
      "metadata": {
        "id": "v1or5ixGZVHz"
      }
    },
    {
      "cell_type": "code",
      "source": [
        "# create fasion array\n",
        "fashion_array = np.array(fashion)\n",
        "\n",
        "# check shape\n",
        "print(f'fashion shape: {fashion_array.shape}', '\\n')\n",
        "\n",
        "fashion_array"
      ],
      "metadata": {
        "colab": {
          "base_uri": "https://localhost:8080/"
        },
        "id": "AlkvGwvWy0FW",
        "outputId": "d86b6334-3162-47ac-a78a-82fc0b5af625"
      },
      "execution_count": null,
      "outputs": [
        {
          "output_type": "stream",
          "name": "stdout",
          "text": [
            "fashion shape: (60000, 785) \n",
            "\n"
          ]
        },
        {
          "output_type": "execute_result",
          "data": {
            "text/plain": [
              "array([[2, 0, 0, ..., 0, 0, 0],\n",
              "       [9, 0, 0, ..., 0, 0, 0],\n",
              "       [6, 0, 0, ..., 0, 0, 0],\n",
              "       ...,\n",
              "       [8, 0, 0, ..., 0, 0, 0],\n",
              "       [8, 0, 0, ..., 0, 0, 0],\n",
              "       [7, 0, 0, ..., 0, 0, 0]])"
            ]
          },
          "metadata": {},
          "execution_count": 7
        }
      ]
    },
    {
      "cell_type": "code",
      "source": [
        "# shuffle randomly \n",
        "np.random.shuffle(fashion_array)\n",
        "\n",
        "fashion_array"
      ],
      "metadata": {
        "colab": {
          "base_uri": "https://localhost:8080/"
        },
        "id": "S7qEGXi1zIR1",
        "outputId": "3b491d1a-61c7-4da0-b8bc-fd0530ee03ae"
      },
      "execution_count": null,
      "outputs": [
        {
          "output_type": "execute_result",
          "data": {
            "text/plain": [
              "array([[0, 0, 0, ..., 0, 0, 0],\n",
              "       [9, 0, 0, ..., 0, 0, 0],\n",
              "       [6, 0, 0, ..., 0, 0, 0],\n",
              "       ...,\n",
              "       [5, 0, 0, ..., 0, 0, 0],\n",
              "       [2, 0, 0, ..., 0, 0, 0],\n",
              "       [0, 0, 0, ..., 0, 0, 0]])"
            ]
          },
          "metadata": {},
          "execution_count": 8
        }
      ]
    },
    {
      "cell_type": "code",
      "source": [
        "# fashion_train array\n",
        "fashion_train = fashion_array[0:48000, :]\n",
        "\n",
        "# check shape\n",
        "print(f'fashion_train shape: {fashion_train.shape}', '\\n')\n",
        "\n",
        "fashion_train"
      ],
      "metadata": {
        "colab": {
          "base_uri": "https://localhost:8080/"
        },
        "id": "DI30TSi2zSjd",
        "outputId": "cf9980d8-9590-400c-d605-bc1131a8cfc6"
      },
      "execution_count": null,
      "outputs": [
        {
          "output_type": "stream",
          "name": "stdout",
          "text": [
            "fashion_train shape: (48000, 785) \n",
            "\n"
          ]
        },
        {
          "output_type": "execute_result",
          "data": {
            "text/plain": [
              "array([[ 0,  0,  0, ...,  0,  0,  0],\n",
              "       [ 9,  0,  0, ...,  0,  0,  0],\n",
              "       [ 6,  0,  0, ...,  0,  0,  0],\n",
              "       ...,\n",
              "       [ 8,  0,  0, ...,  0,  0,  0],\n",
              "       [ 6,  0,  0, ...,  0,  0,  0],\n",
              "       [ 2,  0,  0, ..., 25,  0,  0]])"
            ]
          },
          "metadata": {},
          "execution_count": 9
        }
      ]
    },
    {
      "cell_type": "code",
      "source": [
        "# fashion_test array\n",
        "fashion_test = fashion_array[48000: , :]\n",
        "\n",
        "# check shape\n",
        "print(f'fashion_test shape: {fashion_test.shape}', '\\n')\n",
        "\n",
        "fashion_test"
      ],
      "metadata": {
        "colab": {
          "base_uri": "https://localhost:8080/"
        },
        "id": "8k8G6-zvz00t",
        "outputId": "87890f17-aa1b-406b-e7f3-b07404c57870"
      },
      "execution_count": null,
      "outputs": [
        {
          "output_type": "stream",
          "name": "stdout",
          "text": [
            "fashion_test shape: (12000, 785) \n",
            "\n"
          ]
        },
        {
          "output_type": "execute_result",
          "data": {
            "text/plain": [
              "array([[7, 0, 0, ..., 0, 0, 0],\n",
              "       [1, 0, 0, ..., 0, 0, 0],\n",
              "       [6, 0, 0, ..., 0, 0, 0],\n",
              "       ...,\n",
              "       [5, 0, 0, ..., 0, 0, 0],\n",
              "       [2, 0, 0, ..., 0, 0, 0],\n",
              "       [0, 0, 0, ..., 0, 0, 0]])"
            ]
          },
          "metadata": {},
          "execution_count": 10
        }
      ]
    },
    {
      "cell_type": "markdown",
      "source": [
        "![green-divider](https://user-images.githubusercontent.com/7065401/52071924-c003ad80-2562-11e9-8297-1c6595f8a7ff.png)"
      ],
      "metadata": {
        "id": "T8_nne2N0GZe"
      }
    },
    {
      "cell_type": "markdown",
      "source": [
        "### $X$ Inputs\n",
        "\n",
        "- To be able to feed the Inputs into the Neural Network they need to be Transposed. \n",
        "  \n",
        "  - Each colum in the $X$ array will be an image consisting of $784$ rows (pixels) \n",
        "    - $X ⟶ (784 \\times m)$\n",
        "\n",
        "  - We will divide by $255$ so the pixels are in the range of [0, 1]\n",
        "    - $0 ⟶$ Completely Black\n",
        "    - $1 ⟶$ Completely White"
      ],
      "metadata": {
        "id": "z5k3Ez6x0Hcr"
      }
    },
    {
      "cell_type": "code",
      "source": [
        "# X_train\n",
        "X_train = fashion_train[:, 1:]\n",
        "\n",
        "# check shape\n",
        "print(f'X_train shape: {X_train.shape}', '\\n')\n",
        "\n",
        "X_train"
      ],
      "metadata": {
        "colab": {
          "base_uri": "https://localhost:8080/"
        },
        "id": "8ELJmjr001BV",
        "outputId": "3214eb9c-47c8-4e8e-e298-db5fb72491b3"
      },
      "execution_count": null,
      "outputs": [
        {
          "output_type": "stream",
          "name": "stdout",
          "text": [
            "X_train shape: (48000, 784) \n",
            "\n"
          ]
        },
        {
          "output_type": "execute_result",
          "data": {
            "text/plain": [
              "array([[ 0,  0,  0, ...,  0,  0,  0],\n",
              "       [ 0,  0,  0, ...,  0,  0,  0],\n",
              "       [ 0,  0,  0, ...,  0,  0,  0],\n",
              "       ...,\n",
              "       [ 0,  0,  0, ...,  0,  0,  0],\n",
              "       [ 0,  0,  0, ...,  0,  0,  0],\n",
              "       [ 0,  0,  0, ..., 25,  0,  0]])"
            ]
          },
          "metadata": {},
          "execution_count": 11
        }
      ]
    },
    {
      "cell_type": "code",
      "source": [
        "# X_train Transpose\n",
        "X_train_T = X_train.T\n",
        "\n",
        "# divide by 255 pixels\n",
        "X_train_T = X_train_T / 255\n",
        "\n",
        "# check shape\n",
        "print(f'X_train Transpose shape: {X_train_T.shape}', '\\n')\n",
        "\n",
        "# check first 5 cols\n",
        "X_train_T[:, 0:5]"
      ],
      "metadata": {
        "colab": {
          "base_uri": "https://localhost:8080/"
        },
        "id": "kjQ0IvQW1CZf",
        "outputId": "4ab30701-cb12-4790-c002-dbaeee4b6dfb"
      },
      "execution_count": null,
      "outputs": [
        {
          "output_type": "stream",
          "name": "stdout",
          "text": [
            "X_train Transpose shape: (784, 48000) \n",
            "\n"
          ]
        },
        {
          "output_type": "execute_result",
          "data": {
            "text/plain": [
              "array([[0., 0., 0., 0., 0.],\n",
              "       [0., 0., 0., 0., 0.],\n",
              "       [0., 0., 0., 0., 0.],\n",
              "       ...,\n",
              "       [0., 0., 0., 0., 0.],\n",
              "       [0., 0., 0., 0., 0.],\n",
              "       [0., 0., 0., 0., 0.]])"
            ]
          },
          "metadata": {},
          "execution_count": 12
        }
      ]
    },
    {
      "cell_type": "code",
      "source": [
        "# X_test\n",
        "X_test = fashion_test[:, 1:]\n",
        "\n",
        "# check shape\n",
        "print(f'X_test shape: {X_test.shape}', '\\n')\n",
        "\n",
        "X_test"
      ],
      "metadata": {
        "colab": {
          "base_uri": "https://localhost:8080/"
        },
        "id": "3FoFeFLg2VJM",
        "outputId": "603f9d26-ebf2-460e-d6f3-b68b54cc7000"
      },
      "execution_count": null,
      "outputs": [
        {
          "output_type": "stream",
          "name": "stdout",
          "text": [
            "X_test shape: (12000, 784) \n",
            "\n"
          ]
        },
        {
          "output_type": "execute_result",
          "data": {
            "text/plain": [
              "array([[0, 0, 0, ..., 0, 0, 0],\n",
              "       [0, 0, 0, ..., 0, 0, 0],\n",
              "       [0, 0, 0, ..., 0, 0, 0],\n",
              "       ...,\n",
              "       [0, 0, 0, ..., 0, 0, 0],\n",
              "       [0, 0, 0, ..., 0, 0, 0],\n",
              "       [0, 0, 0, ..., 0, 0, 0]])"
            ]
          },
          "metadata": {},
          "execution_count": 13
        }
      ]
    },
    {
      "cell_type": "code",
      "source": [
        "# X_test Transpose\n",
        "X_test_T = X_test.T\n",
        "\n",
        "# divide by 255 pixels\n",
        "X_test_T = X_test_T / 255\n",
        "\n",
        "# check shape\n",
        "print(f'X_test Transpose shape: {X_test_T.shape}', '\\n')\n",
        "\n",
        "# check first 5 cols\n",
        "X_test_T[:, 0:5]"
      ],
      "metadata": {
        "colab": {
          "base_uri": "https://localhost:8080/"
        },
        "id": "NduKF93c2gkE",
        "outputId": "9f666406-6b24-43af-9e62-33ef8ae67418"
      },
      "execution_count": null,
      "outputs": [
        {
          "output_type": "stream",
          "name": "stdout",
          "text": [
            "X_test Transpose shape: (784, 12000) \n",
            "\n"
          ]
        },
        {
          "output_type": "execute_result",
          "data": {
            "text/plain": [
              "array([[0., 0., 0., 0., 0.],\n",
              "       [0., 0., 0., 0., 0.],\n",
              "       [0., 0., 0., 0., 0.],\n",
              "       ...,\n",
              "       [0., 0., 0., 0., 0.],\n",
              "       [0., 0., 0., 0., 0.],\n",
              "       [0., 0., 0., 0., 0.]])"
            ]
          },
          "metadata": {},
          "execution_count": 14
        }
      ]
    },
    {
      "cell_type": "markdown",
      "source": [
        "![green-divider](https://user-images.githubusercontent.com/7065401/52071924-c003ad80-2562-11e9-8297-1c6595f8a7ff.png)"
      ],
      "metadata": {
        "id": "TXQszqSM249t"
      }
    },
    {
      "cell_type": "markdown",
      "source": [
        "### $Y$ Labels"
      ],
      "metadata": {
        "id": "BeBdM2m425cH"
      }
    },
    {
      "cell_type": "code",
      "source": [
        "# Y_train\n",
        "Y_train = fashion_train[:, 0]\n",
        "\n",
        "# check shape\n",
        "print(f'Y_train shape: {Y_train.shape}', '\\n')\n",
        "\n",
        "Y_train"
      ],
      "metadata": {
        "colab": {
          "base_uri": "https://localhost:8080/"
        },
        "id": "MfV34GiI27Vb",
        "outputId": "a1a8d259-32fd-45bb-b197-004ad7a85795"
      },
      "execution_count": null,
      "outputs": [
        {
          "output_type": "stream",
          "name": "stdout",
          "text": [
            "Y_train shape: (48000,) \n",
            "\n"
          ]
        },
        {
          "output_type": "execute_result",
          "data": {
            "text/plain": [
              "array([0, 9, 6, ..., 8, 6, 2])"
            ]
          },
          "metadata": {},
          "execution_count": 15
        }
      ]
    },
    {
      "cell_type": "code",
      "source": [
        "# Y_test\n",
        "Y_test = fashion_test[:, 0]\n",
        "\n",
        "# check shape\n",
        "print(f'Y_test shape: {Y_test.shape}', '\\n')\n",
        "\n",
        "Y_test"
      ],
      "metadata": {
        "colab": {
          "base_uri": "https://localhost:8080/"
        },
        "id": "wrDp5Nsq3ScY",
        "outputId": "21649579-7bff-45df-d9a9-0d94e9e50d70"
      },
      "execution_count": null,
      "outputs": [
        {
          "output_type": "stream",
          "name": "stdout",
          "text": [
            "Y_test shape: (12000,) \n",
            "\n"
          ]
        },
        {
          "output_type": "execute_result",
          "data": {
            "text/plain": [
              "array([7, 1, 6, ..., 5, 2, 0])"
            ]
          },
          "metadata": {},
          "execution_count": 16
        }
      ]
    },
    {
      "cell_type": "markdown",
      "source": [
        "![green-divider](https://user-images.githubusercontent.com/7065401/52071924-c003ad80-2562-11e9-8297-1c6595f8a7ff.png)"
      ],
      "metadata": {
        "id": "Bbc_BtFs3hS3"
      }
    },
    {
      "cell_type": "markdown",
      "source": [
        "### One Hot Encode $Y$\n",
        "\n",
        "- $Y$ needs to be *One Hot Encoded* so it can be used in the Neural Network\n",
        "\n",
        "  - If for example $Y ⟶ 2$, the image of a Pullover then:\n",
        "\n",
        "    - $Y ⟶ [0, 0, 1, 0, 0, 0, 0, 0, 0, 0]$ "
      ],
      "metadata": {
        "id": "viG5FXp63h0W"
      }
    },
    {
      "cell_type": "code",
      "source": [
        "# function to One Hot Encode Y\n",
        "def one_hot_Y(y):\n",
        "\n",
        "  # create zeros array of shape >> (len(y), 10)\n",
        "  one_hot = np.zeros((y.size, 10))\n",
        "  # for each row >> place a 1 in the col = y\n",
        "  one_hot[np.arange(y.size), y] = 1\n",
        "\n",
        "  # transpose array\n",
        "  one_hot_T = one_hot.T\n",
        "  return one_hot_T"
      ],
      "metadata": {
        "id": "x4WtZS0D4LuH"
      },
      "execution_count": null,
      "outputs": []
    },
    {
      "cell_type": "code",
      "source": [
        "# check one_hot_Y\n",
        "Y_train_T = one_hot_Y(Y_train)\n",
        "\n",
        "# check shape\n",
        "print(f'Y_train Encoded shape: {Y_train_T.shape}', '\\n')\n",
        "\n",
        "# check first 5 cols\n",
        "Y_train_T[:, 0:5]"
      ],
      "metadata": {
        "colab": {
          "base_uri": "https://localhost:8080/"
        },
        "id": "5BmNHPF94fPX",
        "outputId": "a2b1b563-6cf6-47e0-94dc-432c4bdafb8b"
      },
      "execution_count": null,
      "outputs": [
        {
          "output_type": "stream",
          "name": "stdout",
          "text": [
            "Y_train Encoded shape: (10, 48000) \n",
            "\n"
          ]
        },
        {
          "output_type": "execute_result",
          "data": {
            "text/plain": [
              "array([[1., 0., 0., 1., 0.],\n",
              "       [0., 0., 0., 0., 0.],\n",
              "       [0., 0., 0., 0., 0.],\n",
              "       [0., 0., 0., 0., 0.],\n",
              "       [0., 0., 0., 0., 0.],\n",
              "       [0., 0., 0., 0., 0.],\n",
              "       [0., 0., 1., 0., 1.],\n",
              "       [0., 0., 0., 0., 0.],\n",
              "       [0., 0., 0., 0., 0.],\n",
              "       [0., 1., 0., 0., 0.]])"
            ]
          },
          "metadata": {},
          "execution_count": 18
        }
      ]
    },
    {
      "cell_type": "code",
      "source": [
        "# first 5 labels of Y_train\n",
        "Y_train[:5]"
      ],
      "metadata": {
        "colab": {
          "base_uri": "https://localhost:8080/"
        },
        "id": "6vSjdbzf53pN",
        "outputId": "4a4c833f-7d0b-4baf-c895-cdb4934c6b8b"
      },
      "execution_count": null,
      "outputs": [
        {
          "output_type": "execute_result",
          "data": {
            "text/plain": [
              "array([0, 9, 6, 0, 6])"
            ]
          },
          "metadata": {},
          "execution_count": 19
        }
      ]
    },
    {
      "cell_type": "markdown",
      "source": [
        "![purple-divider](https://user-images.githubusercontent.com/7065401/52071927-c1cd7100-2562-11e9-908a-dde91ba14e59.png)"
      ],
      "metadata": {
        "id": "BHKaqagV6V4p"
      }
    },
    {
      "cell_type": "markdown",
      "source": [
        "## Neural Network Model\n",
        "\n",
        "- Neural Network Model Architecture\n",
        "\n",
        "  <br>\n",
        "\n",
        "  ![image.png](data:image/png;base64,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)\n",
        "\n",
        "  <br>"
      ],
      "metadata": {
        "id": "s_cdgnmI6WLY"
      }
    },
    {
      "cell_type": "markdown",
      "source": [
        "![green-divider](https://user-images.githubusercontent.com/7065401/52071924-c003ad80-2562-11e9-8297-1c6595f8a7ff.png)"
      ],
      "metadata": {
        "id": "tc31wchI7Qym"
      }
    },
    {
      "cell_type": "markdown",
      "source": [
        "### Forward Propagation\n",
        "\n",
        "- We Forward Propagate the Neural Network from Left to Right, with Random Values of Parameters $\\vec{w}$ and $b$, to get the Model's Predictions $⟶ \\hat{y}$"
      ],
      "metadata": {
        "id": "zj5kJnKB7RNX"
      }
    },
    {
      "cell_type": "markdown",
      "source": [
        "![green-divider](https://user-images.githubusercontent.com/7065401/52071924-c003ad80-2562-11e9-8297-1c6595f8a7ff.png)"
      ],
      "metadata": {
        "id": "X5LbLzUfZUv0"
      }
    },
    {
      "cell_type": "markdown",
      "source": [
        "#### Layer 1\n",
        "\n",
        "<br>\n",
        "\n",
        "- $A^{[0]} ⟶ X$ Inputs\n",
        "  - $X^T ⟶ (784 \\times m)$\n",
        "\n",
        "<br>\n",
        "\n",
        "- $\\vec{w}^{[1]} ⟶$ Initialized with Random Values\n",
        "  - $\\vec{w}^{[1]} ⟶ (16 \\times 784)$\n",
        "\n",
        "<br>\n",
        "\n",
        "- $b^{[1]} ⟶ $ Inititalized with Random Values\n",
        "  - $b^{[1]} ⟶ (16 \\times 1)$\n",
        "\n",
        "<br>\n",
        "\n",
        "$$ Z^{[1]}_{(16 \\times m)} = \\vec{w}^{[1]}_{(16 \\times 784)} \\times A^{[0]}_{(784 \\times m)} + b^{[1]}_{(16 \\times 1)} $$"
      ],
      "metadata": {
        "id": "qpKDIaoFw-dX"
      }
    },
    {
      "cell_type": "code",
      "source": [
        "# create random state\n",
        "random_state = np.random.RandomState(123)"
      ],
      "metadata": {
        "id": "B_lVsSZvy8fU"
      },
      "execution_count": null,
      "outputs": []
    },
    {
      "cell_type": "markdown",
      "source": [
        "![green-divider](https://user-images.githubusercontent.com/7065401/52071924-c003ad80-2562-11e9-8297-1c6595f8a7ff.png)"
      ],
      "metadata": {
        "id": "TZA4pSB41GMo"
      }
    },
    {
      "cell_type": "markdown",
      "source": [
        "<br>\n",
        "\n",
        "- $\\vec{w}^{[1]}$"
      ],
      "metadata": {
        "id": "dWPbN9v41IMm"
      }
    },
    {
      "cell_type": "code",
      "source": [
        "# W_1 \n",
        "W_1 = random_state.rand(16, 784) - 0.5\n",
        "\n",
        "# check shape\n",
        "print(f'W_1 shape: {W_1.shape}', '\\n')\n",
        "\n",
        "# check first 3 cols\n",
        "W_1[:, 0:3]"
      ],
      "metadata": {
        "colab": {
          "base_uri": "https://localhost:8080/"
        },
        "id": "uwTJFuvC1YUL",
        "outputId": "2c70acfd-38d2-45b6-f8b8-c9a2f1e949d0"
      },
      "execution_count": null,
      "outputs": [
        {
          "output_type": "stream",
          "name": "stdout",
          "text": [
            "W_1 shape: (16, 784) \n",
            "\n"
          ]
        },
        {
          "output_type": "execute_result",
          "data": {
            "text/plain": [
              "array([[ 0.19646919, -0.21386067, -0.27314855],\n",
              "       [-0.1694179 ,  0.42033043,  0.44758184],\n",
              "       [-0.02307604,  0.18820677,  0.23814989],\n",
              "       [ 0.06077213,  0.38303933, -0.25189546],\n",
              "       [-0.12574471, -0.10640361, -0.17633294],\n",
              "       [ 0.04727322, -0.40926557,  0.10698605],\n",
              "       [ 0.45062454,  0.40925658, -0.20311306],\n",
              "       [-0.05641015, -0.32405026,  0.47146029],\n",
              "       [ 0.40314159, -0.46044539, -0.07862085],\n",
              "       [-0.28835156,  0.48939585, -0.04792802],\n",
              "       [ 0.39963418, -0.37347035,  0.10851662],\n",
              "       [ 0.11277986,  0.44903347, -0.19769065],\n",
              "       [ 0.30221908, -0.27023659, -0.33767023],\n",
              "       [ 0.17476273, -0.29406011,  0.43804368],\n",
              "       [-0.0322939 ,  0.31851244, -0.02478784],\n",
              "       [-0.46967793,  0.05565592, -0.21783095]])"
            ]
          },
          "metadata": {},
          "execution_count": 21
        }
      ]
    },
    {
      "cell_type": "markdown",
      "source": [
        "<br>\n",
        "\n",
        "- $b^{[1]}$"
      ],
      "metadata": {
        "id": "AnyjgRwK1w4l"
      }
    },
    {
      "cell_type": "code",
      "source": [
        "# b_1\n",
        "b_1 = random_state.rand(16, 1) - 0.5\n",
        "\n",
        "# check shape\n",
        "print(f'b_1 shape: {b_1.shape}', '\\n')\n",
        "\n",
        "b_1"
      ],
      "metadata": {
        "colab": {
          "base_uri": "https://localhost:8080/"
        },
        "id": "xh1jMrBT11wh",
        "outputId": "25235452-705c-44a6-f287-d289094bd787"
      },
      "execution_count": null,
      "outputs": [
        {
          "output_type": "stream",
          "name": "stdout",
          "text": [
            "b_1 shape: (16, 1) \n",
            "\n"
          ]
        },
        {
          "output_type": "execute_result",
          "data": {
            "text/plain": [
              "array([[-0.09303079],\n",
              "       [ 0.31453762],\n",
              "       [ 0.07831151],\n",
              "       [ 0.03916348],\n",
              "       [-0.34687879],\n",
              "       [-0.34928428],\n",
              "       [-0.42275997],\n",
              "       [-0.06500196],\n",
              "       [ 0.00712886],\n",
              "       [-0.2549949 ],\n",
              "       [ 0.42120509],\n",
              "       [-0.39946032],\n",
              "       [ 0.16229109],\n",
              "       [ 0.10854361],\n",
              "       [-0.03993653],\n",
              "       [ 0.37335169]])"
            ]
          },
          "metadata": {},
          "execution_count": 22
        }
      ]
    },
    {
      "cell_type": "markdown",
      "source": [
        "\n",
        "- $Z^{[1]}$"
      ],
      "metadata": {
        "id": "CelF3KbJ2Kw4"
      }
    },
    {
      "cell_type": "code",
      "source": [
        "# Z_1\n",
        "Z_1 = np.dot(W_1, X_train_T) + b_1\n",
        "\n",
        "# check shape\n",
        "print(f'Z_1 shape: {Z_1.shape}', '\\n')\n",
        "\n",
        "# check first 3 cols\n",
        "Z_1[:, 0:3]"
      ],
      "metadata": {
        "colab": {
          "base_uri": "https://localhost:8080/"
        },
        "id": "qVly_1Ze2PQA",
        "outputId": "5461a97d-6e01-4eea-cbbf-1b322688d0fe"
      },
      "execution_count": null,
      "outputs": [
        {
          "output_type": "stream",
          "name": "stdout",
          "text": [
            "Z_1 shape: (16, 48000) \n",
            "\n"
          ]
        },
        {
          "output_type": "execute_result",
          "data": {
            "text/plain": [
              "array([[ 1.38599162,  0.80339468,  2.869723  ],\n",
              "       [ 0.77100579,  1.92427129, -3.59282094],\n",
              "       [ 0.56451137, -2.3822438 ,  1.72687864],\n",
              "       [-2.25367314, -1.85786147, -1.0543859 ],\n",
              "       [ 4.34868692, -1.44044857,  3.37912793],\n",
              "       [-3.32023566, -5.74962309, -2.12356681],\n",
              "       [-1.89548195, -0.44618959, -3.61451045],\n",
              "       [ 0.76909327,  4.7953627 ,  2.07401422],\n",
              "       [-2.1433548 , -0.61711569, -2.91478871],\n",
              "       [-1.32073503,  0.70826661, -7.57012563],\n",
              "       [-1.7528293 , -0.63695217, -1.29639326],\n",
              "       [-1.4560846 ,  2.00947006, -0.53025081],\n",
              "       [ 1.44704415, -1.29929753, -1.33086001],\n",
              "       [-1.52351377, -4.4471369 , -8.70670781],\n",
              "       [ 0.14442765, -0.89329603, -3.87826538],\n",
              "       [-2.91096589, -1.66333984, -6.12409597]])"
            ]
          },
          "metadata": {},
          "execution_count": 23
        }
      ]
    },
    {
      "cell_type": "markdown",
      "source": [
        "![green-divider](https://user-images.githubusercontent.com/7065401/52071924-c003ad80-2562-11e9-8297-1c6595f8a7ff.png)"
      ],
      "metadata": {
        "id": "qYqyBCnd2mzc"
      }
    },
    {
      "cell_type": "markdown",
      "source": [
        "#### ReLU ⟶ Layer 1\n",
        "\n",
        "- ReLU is going to be used as an Activation Function for Layer 1, else the Nodes will just be a Linear Combination of the Inputs\n",
        "\n",
        "  - $ReLU(Z) = max(0, Z)$\n",
        "    - $Z > 0 ⟶ Z$\n",
        "    - $Z < 0 ⟶ 0$\n",
        "\n",
        "  <br>\n",
        "\n",
        "  ![imagen.png](data:image/png;base64,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)\n",
        " \n",
        "  <br> "
      ],
      "metadata": {
        "id": "lKQW80tk2oDQ"
      }
    },
    {
      "cell_type": "code",
      "source": [
        "# A_1 >> ReLU(Z_1)\n",
        "A_1 = np.maximum(0, Z_1)\n",
        "\n",
        "# check shape\n",
        "print(f'A_1 shape: {A_1.shape}', '\\n')\n",
        "\n",
        "# check first 3 cols\n",
        "A_1[:, 0:3]"
      ],
      "metadata": {
        "colab": {
          "base_uri": "https://localhost:8080/"
        },
        "id": "u-n8QR6C3_P2",
        "outputId": "d12c062f-70f9-420a-a916-7105a037e12d"
      },
      "execution_count": null,
      "outputs": [
        {
          "output_type": "stream",
          "name": "stdout",
          "text": [
            "A_1 shape: (16, 48000) \n",
            "\n"
          ]
        },
        {
          "output_type": "execute_result",
          "data": {
            "text/plain": [
              "array([[1.38599162, 0.80339468, 2.869723  ],\n",
              "       [0.77100579, 1.92427129, 0.        ],\n",
              "       [0.56451137, 0.        , 1.72687864],\n",
              "       [0.        , 0.        , 0.        ],\n",
              "       [4.34868692, 0.        , 3.37912793],\n",
              "       [0.        , 0.        , 0.        ],\n",
              "       [0.        , 0.        , 0.        ],\n",
              "       [0.76909327, 4.7953627 , 2.07401422],\n",
              "       [0.        , 0.        , 0.        ],\n",
              "       [0.        , 0.70826661, 0.        ],\n",
              "       [0.        , 0.        , 0.        ],\n",
              "       [0.        , 2.00947006, 0.        ],\n",
              "       [1.44704415, 0.        , 0.        ],\n",
              "       [0.        , 0.        , 0.        ],\n",
              "       [0.14442765, 0.        , 0.        ],\n",
              "       [0.        , 0.        , 0.        ]])"
            ]
          },
          "metadata": {},
          "execution_count": 24
        }
      ]
    },
    {
      "cell_type": "markdown",
      "source": [
        "![green-divider](https://user-images.githubusercontent.com/7065401/52071924-c003ad80-2562-11e9-8297-1c6595f8a7ff.png)"
      ],
      "metadata": {
        "id": "lAUFwL54w9qY"
      }
    },
    {
      "cell_type": "markdown",
      "source": [
        "#### Layer 2\n",
        "\n",
        "<br>\n",
        "\n",
        "- $A^{[1]} ⟶$ Inputs of Layer 1\n",
        "  - $A^{[1]} ⟶ (16 \\times m)$\n",
        "\n",
        "<br>\n",
        "\n",
        "- $\\vec{w}^{[2]} ⟶$ Initialized with Random Values\n",
        "  - $\\vec{w}^{[2]} ⟶ (13 \\times 16)$\n",
        "\n",
        "<br>\n",
        "\n",
        "- $b^{[2]} ⟶$ Initialized with Random Values\n",
        "  - $b^{[2]} ⟶ (13 \\times 1)$\n",
        "\n",
        "<br>\n",
        "\n",
        "$$Z^{[2]}_{(13 \\times m)} = \\vec{w}^{[2]}_{(13 \\times 16)} \\times A^{[1]}_{(16 \\times m)} + b^{[2]}_{(13 \\times 1)}$$"
      ],
      "metadata": {
        "id": "w0O0sxF_5dLx"
      }
    },
    {
      "cell_type": "markdown",
      "source": [
        "![green-divider](https://user-images.githubusercontent.com/7065401/52071924-c003ad80-2562-11e9-8297-1c6595f8a7ff.png)"
      ],
      "metadata": {
        "id": "Ylwt9CxTMv1M"
      }
    },
    {
      "cell_type": "markdown",
      "source": [
        "<br>\n",
        "\n",
        "- $\\vec{w}^{[2]}$"
      ],
      "metadata": {
        "id": "5cHtZqatMwSD"
      }
    },
    {
      "cell_type": "code",
      "source": [
        "# W_2\n",
        "W_2 = random_state.rand(13, 16) - 0.5\n",
        "\n",
        "# check shape\n",
        "print(f'W_2 shape: {W_2.shape}', '\\n')\n",
        "\n",
        "# check first 3 cols\n",
        "W_2[:, 0:3]"
      ],
      "metadata": {
        "colab": {
          "base_uri": "https://localhost:8080/"
        },
        "id": "NcYyX3XmMzKe",
        "outputId": "4c917cbc-214a-4599-d181-2f18c7a3ace6"
      },
      "execution_count": null,
      "outputs": [
        {
          "output_type": "stream",
          "name": "stdout",
          "text": [
            "W_2 shape: (13, 16) \n",
            "\n"
          ]
        },
        {
          "output_type": "execute_result",
          "data": {
            "text/plain": [
              "array([[ 0.23867291, -0.16174004, -0.23906741],\n",
              "       [-0.42702538, -0.402369  , -0.42769465],\n",
              "       [-0.1106569 ,  0.01974565, -0.00650596],\n",
              "       [-0.14187653,  0.20108   , -0.43726383],\n",
              "       [-0.27150046, -0.26762052, -0.2071765 ],\n",
              "       [ 0.02014665, -0.32919022,  0.23651569],\n",
              "       [-0.3484082 ,  0.38480973, -0.06594504],\n",
              "       [ 0.06663393, -0.45320608, -0.46399787],\n",
              "       [-0.026244  , -0.31476351, -0.16887864],\n",
              "       [ 0.41256662,  0.4436559 , -0.08118094],\n",
              "       [-0.23375524, -0.02393753,  0.40553761],\n",
              "       [ 0.19290713, -0.02657503, -0.39092644],\n",
              "       [ 0.2027967 , -0.15569833, -0.45836332]])"
            ]
          },
          "metadata": {},
          "execution_count": 25
        }
      ]
    },
    {
      "cell_type": "markdown",
      "source": [
        "<br>\n",
        "\n",
        "- $b^{[2]}$"
      ],
      "metadata": {
        "id": "W6dQIH9vNFKh"
      }
    },
    {
      "cell_type": "code",
      "source": [
        "# b_2\n",
        "b_2 = random_state.rand(13, 1) - 0.5\n",
        "\n",
        "# check shape\n",
        "print(f'b_2 shape: {b_2.shape}', '\\n')\n",
        "\n",
        "b_2"
      ],
      "metadata": {
        "colab": {
          "base_uri": "https://localhost:8080/"
        },
        "id": "RRTldEh0NEm_",
        "outputId": "feb7c8bf-0823-43bb-cd32-4e783e8f600a"
      },
      "execution_count": null,
      "outputs": [
        {
          "output_type": "stream",
          "name": "stdout",
          "text": [
            "b_2 shape: (13, 1) \n",
            "\n"
          ]
        },
        {
          "output_type": "execute_result",
          "data": {
            "text/plain": [
              "array([[ 0.03666328],\n",
              "       [-0.20748707],\n",
              "       [ 0.01022266],\n",
              "       [ 0.29682803],\n",
              "       [ 0.38425962],\n",
              "       [ 0.34423737],\n",
              "       [ 0.35855229],\n",
              "       [ 0.35831302],\n",
              "       [-0.31777633],\n",
              "       [ 0.14214835],\n",
              "       [-0.24602471],\n",
              "       [-0.03906787],\n",
              "       [ 0.43434437]])"
            ]
          },
          "metadata": {},
          "execution_count": 26
        }
      ]
    },
    {
      "cell_type": "markdown",
      "source": [
        "<br>\n",
        "\n",
        "- $Z^{[2]}$"
      ],
      "metadata": {
        "id": "xHDGvisHNVyW"
      }
    },
    {
      "cell_type": "code",
      "source": [
        "# Z_2\n",
        "Z_2 = np.dot(W_2, A_1) + b_2\n",
        "\n",
        "# check shape\n",
        "print(f'Z_2 shape: {Z_2.shape}', '\\n')\n",
        "\n",
        "# check first 3 cols\n",
        "Z_2[:, 0:3]"
      ],
      "metadata": {
        "colab": {
          "base_uri": "https://localhost:8080/"
        },
        "id": "usBKSGYfNUwm",
        "outputId": "2c6a8e58-da5c-41b7-8d21-df3d544155bc"
      },
      "execution_count": null,
      "outputs": [
        {
          "output_type": "stream",
          "name": "stdout",
          "text": [
            "Z_2 shape: (13, 48000) \n",
            "\n"
          ]
        },
        {
          "output_type": "execute_result",
          "data": {
            "text/plain": [
              "array([[-2.22062901, -2.05959658, -1.44191709],\n",
              "       [-0.40279955, -3.24836378, -1.39635366],\n",
              "       [ 0.55931896, -0.12817093, -0.37560541],\n",
              "       [ 0.40388635,  3.11731547,  0.12821852],\n",
              "       [-0.86883738, -0.72832781, -1.7076289 ],\n",
              "       [ 1.10730583, -2.82051732,  1.32942053],\n",
              "       [-0.18310274, -1.6974097 , -2.00155935],\n",
              "       [ 1.75095148,  0.56592436,  1.17168249],\n",
              "       [-2.23219244, -1.04651406, -2.04664631],\n",
              "       [ 2.40158635,  3.26149963,  2.38459481],\n",
              "       [-2.57693373,  0.01426857, -1.97605057],\n",
              "       [ 1.6445252 ,  1.74755184,  1.53672607],\n",
              "       [-0.40020564,  1.23616971, -0.06592796]])"
            ]
          },
          "metadata": {},
          "execution_count": 62
        }
      ]
    },
    {
      "cell_type": "markdown",
      "source": [
        "![green-divider](https://user-images.githubusercontent.com/7065401/52071924-c003ad80-2562-11e9-8297-1c6595f8a7ff.png)"
      ],
      "metadata": {
        "id": "dhWNhyMENoAP"
      }
    },
    {
      "cell_type": "markdown",
      "source": [
        "#### ReLU ⟶ Layer 2"
      ],
      "metadata": {
        "id": "GfroacOQNoTc"
      }
    },
    {
      "cell_type": "code",
      "source": [
        "# A_2 >> ReLU(Z_2)\n",
        "A_2 = np.maximum(0, Z_2)\n",
        "\n",
        "# check shape\n",
        "print(f'A_2 shape: {A_2.shape}', '\\n')\n",
        "\n",
        "# check first 3 cols\n",
        "A_2[:, 0:3]"
      ],
      "metadata": {
        "colab": {
          "base_uri": "https://localhost:8080/"
        },
        "id": "kXjbAON_NskI",
        "outputId": "fed11abe-4c61-404e-90d5-ce81904da94a"
      },
      "execution_count": null,
      "outputs": [
        {
          "output_type": "stream",
          "name": "stdout",
          "text": [
            "A_2 shape: (13, 48000) \n",
            "\n"
          ]
        },
        {
          "output_type": "execute_result",
          "data": {
            "text/plain": [
              "array([[0.        , 0.        , 0.        ],\n",
              "       [0.        , 0.        , 0.        ],\n",
              "       [0.55931896, 0.        , 0.        ],\n",
              "       [0.40388635, 3.11731547, 0.12821852],\n",
              "       [0.        , 0.        , 0.        ],\n",
              "       [1.10730583, 0.        , 1.32942053],\n",
              "       [0.        , 0.        , 0.        ],\n",
              "       [1.75095148, 0.56592436, 1.17168249],\n",
              "       [0.        , 0.        , 0.        ],\n",
              "       [2.40158635, 3.26149963, 2.38459481],\n",
              "       [0.        , 0.01426857, 0.        ],\n",
              "       [1.6445252 , 1.74755184, 1.53672607],\n",
              "       [0.        , 1.23616971, 0.        ]])"
            ]
          },
          "metadata": {},
          "execution_count": 28
        }
      ]
    },
    {
      "cell_type": "markdown",
      "source": [
        "![green-divider](https://user-images.githubusercontent.com/7065401/52071924-c003ad80-2562-11e9-8297-1c6595f8a7ff.png)"
      ],
      "metadata": {
        "id": "pgCNiQPQN7zf"
      }
    },
    {
      "cell_type": "markdown",
      "source": [
        "#### Layer 3\n",
        "\n",
        "<br>\n",
        "\n",
        "- $A^{[2]} ⟶$ Inputs of Layer 2\n",
        "  - $A^{[2]} ⟶ (13 \\times m)$\n",
        "\n",
        "<br>\n",
        "\n",
        "- $\\vec{w}^{[3]} ⟶$ Initialized with Random Values\n",
        "  - $\\vec{w}^{[3]} ⟶ (10 \\times 13)$\n",
        "\n",
        "<br>\n",
        "\n",
        "- $b^{[3]} ⟶$ Initialized with Random Values\n",
        "  - $b^{[3]} \\longrightarrow ((10 \\times 1)$\n",
        "\n",
        "<br>\n",
        "\n",
        "$$ Z^{[3]}_{(10 \\times m)} = \\vec{w}^{[3]}_{(10 \\times 13)} \\times A^{[2]}_{(13 \\times m)} + b^{[3]}_{(10 \\times 1)} $$\n"
      ],
      "metadata": {
        "id": "NTGWfLvAN8WB"
      }
    },
    {
      "cell_type": "markdown",
      "source": [
        "![green-divider](https://user-images.githubusercontent.com/7065401/52071924-c003ad80-2562-11e9-8297-1c6595f8a7ff.png)"
      ],
      "metadata": {
        "id": "9ZIPfTvEOzGQ"
      }
    },
    {
      "cell_type": "markdown",
      "source": [
        "<br>\n",
        "\n",
        "- $\\vec{w}^{[3]}$"
      ],
      "metadata": {
        "id": "Wo2C874AOziN"
      }
    },
    {
      "cell_type": "code",
      "source": [
        "# W_3\n",
        "W_3 = random_state.rand(10, 13) - 0.5\n",
        "\n",
        "# check shape\n",
        "print(f'W_3 shape: {W_3. shape}', '\\n')\n",
        "\n",
        "# check first 3 cols\n",
        "W_3[:, 0:3]"
      ],
      "metadata": {
        "colab": {
          "base_uri": "https://localhost:8080/"
        },
        "id": "KeJFBYnSO2oH",
        "outputId": "5e8dc789-d5eb-41af-f540-1f6cc8bfc2b2"
      },
      "execution_count": null,
      "outputs": [
        {
          "output_type": "stream",
          "name": "stdout",
          "text": [
            "W_3 shape: (10, 13) \n",
            "\n"
          ]
        },
        {
          "output_type": "execute_result",
          "data": {
            "text/plain": [
              "array([[ 0.2036276 , -0.09832888, -0.34196219],\n",
              "       [ 0.07313838,  0.43522546,  0.19174322],\n",
              "       [-0.40620779,  0.05096667,  0.08842091],\n",
              "       [ 0.27639738,  0.46093579, -0.37181102],\n",
              "       [-0.41856959,  0.28166693,  0.13070395],\n",
              "       [ 0.46918588, -0.43568131,  0.09901643],\n",
              "       [ 0.20489483, -0.19986005,  0.0725656 ],\n",
              "       [-0.1562504 ,  0.14206516, -0.12173588],\n",
              "       [ 0.37780401,  0.26321949,  0.19952164],\n",
              "       [ 0.11578519,  0.06064349,  0.06192169]])"
            ]
          },
          "metadata": {},
          "execution_count": 29
        }
      ]
    },
    {
      "cell_type": "markdown",
      "source": [
        "<br>\n",
        "\n",
        "- $b^{[3]}$"
      ],
      "metadata": {
        "id": "DZoCoHuyPF5v"
      }
    },
    {
      "cell_type": "code",
      "source": [
        "# b_3\n",
        "b_3 = random_state.rand(10, 1) - 0.5\n",
        "\n",
        "# check shape\n",
        "print(f'b_3 shape: {b_3.shape}', '\\n')\n",
        "\n",
        "b_3"
      ],
      "metadata": {
        "colab": {
          "base_uri": "https://localhost:8080/"
        },
        "id": "5Kf4ayCcPE3L",
        "outputId": "6a06b50f-dd71-40a4-95e0-8f2f7adfdde9"
      },
      "execution_count": null,
      "outputs": [
        {
          "output_type": "stream",
          "name": "stdout",
          "text": [
            "b_3 shape: (10, 1) \n",
            "\n"
          ]
        },
        {
          "output_type": "execute_result",
          "data": {
            "text/plain": [
              "array([[ 0.2539265 ],\n",
              "       [ 0.49606473],\n",
              "       [ 0.17995581],\n",
              "       [-0.42559422],\n",
              "       [-0.06057297],\n",
              "       [ 0.25351695],\n",
              "       [-0.42052403],\n",
              "       [-0.42233981],\n",
              "       [ 0.40911817],\n",
              "       [-0.40245958]])"
            ]
          },
          "metadata": {},
          "execution_count": 30
        }
      ]
    },
    {
      "cell_type": "markdown",
      "source": [
        "<br>\n",
        "\n",
        "- $Z^{[3]}$"
      ],
      "metadata": {
        "id": "MOUQ88XjPbzK"
      }
    },
    {
      "cell_type": "code",
      "source": [
        "# Z_3\n",
        "Z_3 = np.dot(W_3 , A_2) + b_3\n",
        "\n",
        "# check shape\n",
        "print(f'Z_3 shape: {Z_3.shape}', '\\n')\n",
        "\n",
        "# check first 3 cols\n",
        "Z_3[:, 0:3]"
      ],
      "metadata": {
        "colab": {
          "base_uri": "https://localhost:8080/"
        },
        "id": "CbXvrUA4PfNZ",
        "outputId": "e1a37871-a391-4cd0-d644-36ccd923c363"
      },
      "execution_count": null,
      "outputs": [
        {
          "output_type": "stream",
          "name": "stdout",
          "text": [
            "Z_3 shape: (10, 48000) \n",
            "\n"
          ]
        },
        {
          "output_type": "execute_result",
          "data": {
            "text/plain": [
              "array([[-0.21792789,  0.91114833,  0.23759061],\n",
              "       [ 1.096112  ,  0.63126749,  1.25910485],\n",
              "       [ 1.08021322, -0.65924355,  0.98623718],\n",
              "       [ 0.92218581,  1.41603384,  0.9955725 ],\n",
              "       [ 0.48609588,  0.54339249,  0.69784968],\n",
              "       [ 0.83550146,  2.1266401 ,  0.78366172],\n",
              "       [-0.10398549,  0.8431946 , -0.35171507],\n",
              "       [-2.67530489, -2.96769854, -2.56278705],\n",
              "       [-1.28704044, -3.05544484, -0.8905702 ],\n",
              "       [-0.31568924,  1.39183926, -0.48628772]])"
            ]
          },
          "metadata": {},
          "execution_count": 31
        }
      ]
    },
    {
      "cell_type": "markdown",
      "source": [
        "![green-divider](https://user-images.githubusercontent.com/7065401/52071924-c003ad80-2562-11e9-8297-1c6595f8a7ff.png)"
      ],
      "metadata": {
        "id": "6ZA3AUzUPwUd"
      }
    },
    {
      "cell_type": "markdown",
      "source": [
        "#### SoftMax ⟶ Layer 3\n",
        "\n",
        "- The SoftMax function is used in Multi-Class Classification Problems. It will show us the probability of an image belonging to each of the 10 Classes ⟶ [0, 1, 2, 3, 4, 5, 6, 7, 8, 9]\n",
        "\n",
        "  <br>\n",
        "\n",
        "  - The Predicted Class is the one with the Highest Probability\n",
        "\n",
        "  <br>\n",
        "\n",
        "$$SoftMax(Z) = \\frac{e^{Z}}{\\sum e^{Z}}$$"
      ],
      "metadata": {
        "id": "qulb2KAUPxBW"
      }
    },
    {
      "cell_type": "code",
      "source": [
        "# create SoftMax function\n",
        "def SoftMax(z):\n",
        "  \n",
        "  # calculate the probability of an image being classified in each of the 10 classes\n",
        "  softmax_z = np.exp(z) / np.sum(np.exp(z), axis=0) \n",
        "  return softmax_z\n"
      ],
      "metadata": {
        "id": "Z24h3_7lQirv"
      },
      "execution_count": null,
      "outputs": []
    },
    {
      "cell_type": "code",
      "source": [
        "# A_3 >> SoftMax(Z_3)\n",
        "A_3 = SoftMax(Z_3)\n",
        "\n",
        "# check shape\n",
        "print(f'A_3 shape: {A_3.shape}', '\\n')\n",
        "\n",
        "# check first 3 cols\n",
        "A_3[:, 0:3]"
      ],
      "metadata": {
        "colab": {
          "base_uri": "https://localhost:8080/"
        },
        "id": "VM5Dt3LIQ0Dn",
        "outputId": "c9de2466-ecc5-447b-cf8b-555b4790df87"
      },
      "execution_count": null,
      "outputs": [
        {
          "output_type": "stream",
          "name": "stdout",
          "text": [
            "A_3 shape: (10, 48000) \n",
            "\n"
          ]
        },
        {
          "output_type": "execute_result",
          "data": {
            "text/plain": [
              "array([[0.0530317 , 0.09731433, 0.07836723],\n",
              "       [0.1973403 , 0.07355735, 0.21765693],\n",
              "       [0.19422764, 0.02023785, 0.16567904],\n",
              "       [0.16583668, 0.16122997, 0.16723295],\n",
              "       [0.1072233 , 0.06736937, 0.12417165],\n",
              "       [0.15206668, 0.32813924, 0.13529762],\n",
              "       [0.05943196, 0.09092114, 0.04347127],\n",
              "       [0.00454266, 0.00201194, 0.00476372],\n",
              "       [0.01820647, 0.00184292, 0.02536182],\n",
              "       [0.0480926 , 0.15737589, 0.03799777]])"
            ]
          },
          "metadata": {},
          "execution_count": 33
        }
      ]
    },
    {
      "cell_type": "code",
      "source": [
        "# the sum of each colum == 1\n",
        "np.sum(A_3[:, 0:5], axis=0)"
      ],
      "metadata": {
        "colab": {
          "base_uri": "https://localhost:8080/"
        },
        "id": "4axQM-jSSRT0",
        "outputId": "60627e03-3307-4a37-f65b-40f1c5e773ef"
      },
      "execution_count": null,
      "outputs": [
        {
          "output_type": "execute_result",
          "data": {
            "text/plain": [
              "array([1., 1., 1., 1., 1.])"
            ]
          },
          "metadata": {},
          "execution_count": 34
        }
      ]
    },
    {
      "cell_type": "markdown",
      "source": [
        "![green-divider](https://user-images.githubusercontent.com/7065401/52071924-c003ad80-2562-11e9-8297-1c6595f8a7ff.png)"
      ],
      "metadata": {
        "id": "CbWeJc5JScSI"
      }
    },
    {
      "cell_type": "markdown",
      "source": [
        "#### Forward Prop Function"
      ],
      "metadata": {
        "id": "lMGoWce5SdHR"
      }
    },
    {
      "cell_type": "code",
      "source": [
        "# function to caculate Forward Prop\n",
        "def forward_prop(x, w1, b1, w2, b2, w3, b3):\n",
        "\n",
        "  # Layer 1\n",
        "  z1 = np.dot(w1, x) + b1\n",
        "  a1 = np.maximum(0, z1) # ReLU\n",
        "\n",
        "  # Layer 2\n",
        "  z2 = np.dot(w2, a1) + b2\n",
        "  a2 = np.maximum(0, z2) # ReLU\n",
        "\n",
        "  # Layer 3\n",
        "  z3 = np.dot(w3, a2) + b3\n",
        "  a3 = SoftMax(z3)\n",
        "\n",
        "  return z1, a1, z2, a2, z3, a3"
      ],
      "metadata": {
        "id": "gF_J7uKrSfzM"
      },
      "execution_count": null,
      "outputs": []
    },
    {
      "cell_type": "code",
      "source": [
        "# test forward_prop\n",
        "z1, a1, z2, a2, z3, a3 = forward_prop(X_train_T, W_1, b_1, W_2, b_2, W_3, b_3)\n",
        "\n",
        "# check shape of a3\n",
        "print(f'a3 shape: {a3.shape}', '\\n')\n",
        "\n",
        "# check first 3 cols\n",
        "a3[:, 0:3]"
      ],
      "metadata": {
        "colab": {
          "base_uri": "https://localhost:8080/"
        },
        "id": "iq3TsmqETO2R",
        "outputId": "ff803a79-51a7-4d16-92ce-cfef5e121d0b"
      },
      "execution_count": null,
      "outputs": [
        {
          "output_type": "stream",
          "name": "stdout",
          "text": [
            "a3 shape: (10, 48000) \n",
            "\n"
          ]
        },
        {
          "output_type": "execute_result",
          "data": {
            "text/plain": [
              "array([[0.0530317 , 0.09731433, 0.07836723],\n",
              "       [0.1973403 , 0.07355735, 0.21765693],\n",
              "       [0.19422764, 0.02023785, 0.16567904],\n",
              "       [0.16583668, 0.16122997, 0.16723295],\n",
              "       [0.1072233 , 0.06736937, 0.12417165],\n",
              "       [0.15206668, 0.32813924, 0.13529762],\n",
              "       [0.05943196, 0.09092114, 0.04347127],\n",
              "       [0.00454266, 0.00201194, 0.00476372],\n",
              "       [0.01820647, 0.00184292, 0.02536182],\n",
              "       [0.0480926 , 0.15737589, 0.03799777]])"
            ]
          },
          "metadata": {},
          "execution_count": 36
        }
      ]
    },
    {
      "cell_type": "code",
      "source": [
        "# predictions >> highest probability per col\n",
        "predictions = np.argmax(a3, axis=0)\n",
        "\n",
        "print(f'Predictions: {predictions}')\n",
        "print(f'Labels:      {Y_train}')"
      ],
      "metadata": {
        "colab": {
          "base_uri": "https://localhost:8080/"
        },
        "id": "ibriwBILT3ft",
        "outputId": "11220c01-a519-4533-d9d8-66908bac6a73"
      },
      "execution_count": null,
      "outputs": [
        {
          "output_type": "stream",
          "name": "stdout",
          "text": [
            "Predictions: [1 5 1 ... 4 2 5]\n",
            "Labels:      [0 9 6 ... 8 6 2]\n"
          ]
        }
      ]
    },
    {
      "cell_type": "markdown",
      "source": [
        "- Above we can see the Predictions of the Model after activating the Neurons from Left to Right, with Random Values of Parameters $\\vec{w}$ and $b$ "
      ],
      "metadata": {
        "id": "A0-8o_5gUpl-"
      }
    },
    {
      "cell_type": "markdown",
      "source": [
        "![purple-divider](https://user-images.githubusercontent.com/7065401/52071927-c1cd7100-2562-11e9-908a-dde91ba14e59.png)"
      ],
      "metadata": {
        "id": "c_jh6jOSVWjc"
      }
    },
    {
      "cell_type": "markdown",
      "source": [
        "### Categorical Cross Entropy Loss\n",
        "\n",
        "- Given a set of SoftMax Probabilities $S$ and their Labels $T$ the Cross Entropy Loss is:\n",
        "\n",
        "  <br>\n",
        "\n",
        "  ![image.png](data:image/png;base64,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)\n",
        "\n",
        "  <br>\n",
        "\n",
        "  $$ L_{CE} = - \\frac{1}{m} \\sum_{i=1}^{m}  \\sum_{j=1}^{k}  T_{i, j} \\log(S_{i, j})$$\n",
        "\n",
        "  <br>\n",
        "\n",
        "    - $m ⟶$ Number of Samples\n",
        "    - $k ⟶$ Number of Clasess\n",
        "    - $T_{i, j} ⟶ 1$ if sample $i$ is in class $k$ else $0$\n",
        "    - $S_{i, j} ⟶ $ Probability of sample $i$ being in class $k$\n",
        "\n",
        "  <br>\n",
        "\n",
        "  $$ L_{CE} = -[1 \\log(0.775) + 0 \\log(0.116) + 0 \\log(0.039) + 0 log(0.07)] $$\n",
        "  <br>\n",
        "  $$ L_{CE} = - \\log(0.775) $$\n",
        "\n",
        "\n",
        "\n"
      ],
      "metadata": {
        "id": "Hcj7v3JRTC1q"
      }
    },
    {
      "cell_type": "code",
      "source": [
        "# cross entropy loss function\n",
        "def cross_entropy_loss(a3, y):\n",
        "  \n",
        "  # set m\n",
        "  m = a3.shape[1]\n",
        "\n",
        "  # compute cross entropy loss\n",
        "  loss_ce = - 1/m * np.sum(one_hot_Y(y) * np.log(a3))\n",
        "  return loss_ce\n"
      ],
      "metadata": {
        "id": "OHBeky6RVW8q"
      },
      "execution_count": null,
      "outputs": []
    },
    {
      "cell_type": "code",
      "source": [
        "# test function\n",
        "loss_ce = cross_entropy_loss(A_3, Y_train)\n",
        "\n",
        "print(f'Cross Entropy Loss with Random Values of w and b: {loss_ce:.4f}')"
      ],
      "metadata": {
        "colab": {
          "base_uri": "https://localhost:8080/"
        },
        "id": "SgHqWp9wWZv0",
        "outputId": "736a31ab-e22d-408e-9bf2-792ea9383b9e"
      },
      "execution_count": null,
      "outputs": [
        {
          "output_type": "stream",
          "name": "stdout",
          "text": [
            "Cross Entropy Loss with Random Values of w and b: 2.4119\n"
          ]
        }
      ]
    },
    {
      "cell_type": "markdown",
      "source": [
        "![purple-divider](https://user-images.githubusercontent.com/7065401/52071927-c1cd7100-2562-11e9-908a-dde91ba14e59.png)\n",
        "\n"
      ],
      "metadata": {
        "id": "XFmPQeLbTCTO"
      }
    },
    {
      "cell_type": "markdown",
      "source": [
        "### Backward Propagation\n",
        "\n",
        "- We Back Propagate the Neural Network from Right to Left to find the Gradients of Parameters $\\vec{w}$ and $b$ "
      ],
      "metadata": {
        "id": "Pvq3LFfQVW4o"
      }
    },
    {
      "cell_type": "markdown",
      "source": [
        "![green-divider](https://user-images.githubusercontent.com/7065401/52071924-c003ad80-2562-11e9-8297-1c6595f8a7ff.png)"
      ],
      "metadata": {
        "id": "pQdlAc-sTuuX"
      }
    },
    {
      "cell_type": "markdown",
      "source": [
        "#### Gradients of Layer 3\n",
        "\n",
        "<br>\n",
        "\n",
        "- $\\partial{Z^{[3]}} \\longrightarrow$ How much were the Outputs off from the Labels\n",
        "  - $\\partial{Z^{[3]}} ⟶ A^{[3]} - Y_{hot}$\n",
        "  - $\\partial{Z^{[3]}} ⟶ (10 \\times m)$\n",
        "\n",
        "<br>\n",
        "\n",
        "- Partial Derivative of $J$ with respect to $\\vec{w}^{[3]}$\n",
        "  - $\\vec{w}^{[3]}_{(10 \\times 13)} = \\frac{1}{m} \\times \\partial{Z^{[3]}}_{(10 \\times m)} \\times A^{[2]}.T_{(m \\times 13)}$\n",
        "\n",
        "<br>\n",
        "\n",
        "- Partial Derivative of $J$ with respect to $b^{[3]}$\n",
        "  - $\\partial{b}^{[3]}_{(10 \\times 1)} = \\frac{1}{m} \\sum \\partial{Z^{[3]}}_{(10 \\times m)}$"
      ],
      "metadata": {
        "id": "KD0cs4seTvDD"
      }
    },
    {
      "cell_type": "code",
      "source": [
        "# store m\n",
        "m = X_train_T.shape[1]\n",
        "\n",
        "print(f'm: {m}')"
      ],
      "metadata": {
        "colab": {
          "base_uri": "https://localhost:8080/"
        },
        "id": "zWI0SV6KWgHx",
        "outputId": "b938aeac-e7c9-44d8-9cbc-3def4fd15b05"
      },
      "execution_count": null,
      "outputs": [
        {
          "output_type": "stream",
          "name": "stdout",
          "text": [
            "m: 48000\n"
          ]
        }
      ]
    },
    {
      "cell_type": "markdown",
      "source": [
        "![green-divider](https://user-images.githubusercontent.com/7065401/52071924-c003ad80-2562-11e9-8297-1c6595f8a7ff.png)\n",
        "\n"
      ],
      "metadata": {
        "id": "cKBmAVPYVgeP"
      }
    },
    {
      "cell_type": "markdown",
      "source": [
        "<br>\n",
        "\n",
        "- $\\partial{Z^{[3]}}$"
      ],
      "metadata": {
        "id": "mOi7nZR1Vmrl"
      }
    },
    {
      "cell_type": "code",
      "source": [
        "# partial dev of Z_3\n",
        "d_Z3 = A_3 - one_hot_Y(Y_train)\n",
        "\n",
        "# check shape\n",
        "print(f'd_Z3 shape: {d_Z3.shape}', '\\n')\n",
        "\n",
        "# check first 3 cols\n",
        "d_Z3[:, 0:3]"
      ],
      "metadata": {
        "colab": {
          "base_uri": "https://localhost:8080/"
        },
        "id": "asF2N-wmVs7j",
        "outputId": "25b2f717-fd22-4e83-962e-5972a4e855a8"
      },
      "execution_count": null,
      "outputs": [
        {
          "output_type": "stream",
          "name": "stdout",
          "text": [
            "d_Z3 shape: (10, 48000) \n",
            "\n"
          ]
        },
        {
          "output_type": "execute_result",
          "data": {
            "text/plain": [
              "array([[-0.9469683 ,  0.09731433,  0.07836723],\n",
              "       [ 0.1973403 ,  0.07355735,  0.21765693],\n",
              "       [ 0.19422764,  0.02023785,  0.16567904],\n",
              "       [ 0.16583668,  0.16122997,  0.16723295],\n",
              "       [ 0.1072233 ,  0.06736937,  0.12417165],\n",
              "       [ 0.15206668,  0.32813924,  0.13529762],\n",
              "       [ 0.05943196,  0.09092114, -0.95652873],\n",
              "       [ 0.00454266,  0.00201194,  0.00476372],\n",
              "       [ 0.01820647,  0.00184292,  0.02536182],\n",
              "       [ 0.0480926 , -0.84262411,  0.03799777]])"
            ]
          },
          "metadata": {},
          "execution_count": 41
        }
      ]
    },
    {
      "cell_type": "markdown",
      "source": [
        "<br>\n",
        "\n",
        "- $\\partial{\\vec{w}^{[2]}}$"
      ],
      "metadata": {
        "id": "epjLwwYoWW2n"
      }
    },
    {
      "cell_type": "code",
      "source": [
        "# partial dev of W_3\n",
        "d_W3 = 1/m * np.dot(d_Z3, A_2.T)\n",
        "\n",
        "# check shape\n",
        "print(f'd_W3 shape: {d_W3.shape}', '\\n')\n",
        "\n",
        "# check first 3 cols\n",
        "d_W3[:, 0:3]"
      ],
      "metadata": {
        "colab": {
          "base_uri": "https://localhost:8080/"
        },
        "id": "dCY6QdRKWcuK",
        "outputId": "06ae9b08-3f90-47d9-f68f-911bf98fa1fb"
      },
      "execution_count": null,
      "outputs": [
        {
          "output_type": "stream",
          "name": "stdout",
          "text": [
            "d_W3 shape: (10, 13) \n",
            "\n"
          ]
        },
        {
          "output_type": "execute_result",
          "data": {
            "text/plain": [
              "array([[ 3.72965823e-03, -1.41303572e-02, -2.36834373e-02],\n",
              "       [ 1.16539613e-02, -5.26626021e-03,  8.22949396e-02],\n",
              "       [-1.60046968e-02,  3.17853156e-02,  2.33241083e-02],\n",
              "       [ 1.15158013e-02,  1.59168720e-03,  2.65181805e-02],\n",
              "       [-2.68851791e-03, -2.15779053e-02,  1.37789464e-02],\n",
              "       [ 2.83189159e-03,  6.00725491e-03,  2.75661130e-02],\n",
              "       [ 3.35861888e-04,  5.97481516e-05,  4.97065466e-04],\n",
              "       [-3.66522789e-03, -9.30763385e-03, -6.70385002e-03],\n",
              "       [-1.13535858e-02,  6.02850741e-03, -1.11053930e-01],\n",
              "       [ 3.64485400e-03,  4.80964323e-03, -3.25381354e-02]])"
            ]
          },
          "metadata": {},
          "execution_count": 42
        }
      ]
    },
    {
      "cell_type": "markdown",
      "source": [
        "<br>\n",
        "\n",
        "- $\\partial{b^{[3]}}$"
      ],
      "metadata": {
        "id": "I1s4497fW7DL"
      }
    },
    {
      "cell_type": "code",
      "source": [
        "# partial dev of b_3\n",
        "d_b3 = 1/m * np.sum(d_Z3, axis=1) # sum row-wise\n",
        "# reshape to (10, 1)\n",
        "d_b3 = d_b3.reshape(10, 1)\n",
        "\n",
        "# check shape\n",
        "print(f'd_b3 shape: {d_b3.shape}', '\\n')\n",
        "\n",
        "d_b3"
      ],
      "metadata": {
        "colab": {
          "base_uri": "https://localhost:8080/"
        },
        "id": "OszSveX0W-Wr",
        "outputId": "662da318-10eb-459d-d38f-c74db0bd5c77"
      },
      "execution_count": null,
      "outputs": [
        {
          "output_type": "stream",
          "name": "stdout",
          "text": [
            "d_b3 shape: (10, 1) \n",
            "\n"
          ]
        },
        {
          "output_type": "execute_result",
          "data": {
            "text/plain": [
              "array([[-0.04019154],\n",
              "       [ 0.06559822],\n",
              "       [ 0.03405575],\n",
              "       [ 0.0647071 ],\n",
              "       [-0.00523234],\n",
              "       [ 0.03719013],\n",
              "       [-0.00560681],\n",
              "       [-0.08143246],\n",
              "       [-0.03562182],\n",
              "       [-0.03346621]])"
            ]
          },
          "metadata": {},
          "execution_count": 43
        }
      ]
    },
    {
      "cell_type": "markdown",
      "source": [
        "![green-divider](https://user-images.githubusercontent.com/7065401/52071924-c003ad80-2562-11e9-8297-1c6595f8a7ff.png)\n",
        "\n"
      ],
      "metadata": {
        "id": "wj-5sycxXc5-"
      }
    },
    {
      "cell_type": "markdown",
      "source": [
        "#### Gradients of Layer 2\n",
        "\n",
        "<br>\n",
        "\n",
        "- $\\partial{Z^{[2]}} ⟶ $ Weights of Layer 3 $\\times$ Error of Layer 3 $\\times$ the Derivative of the Activation Function of Layer 2\n",
        "\n",
        "  - $\\partial{Z^{[2]}}_{(13 \\times m)} =  \\vec{w}^{[3]}.T_{(13 \\times 10)} \\times \\partial{Z^{[3]}}_{(10 \\times m)} \\times \\partial{ReLU(Z^{[2]})}_{(13 \\times m)}$\n",
        "\n",
        "<br>\n",
        "\n",
        "- Partial Derivative of $J$ with respect to $\\vec{w}^{[2]}$\n",
        "\n",
        "  - $\\partial{\\vec{w}^{[2]}}_{(13 \\times 16)} = \\frac{1}{m} \\times \\partial{Z^{[2]}}_{(13 \\times m)} \\times A^{[1]}.T_{(m \\times 16)}$\n",
        "\n",
        "<br>\n",
        "\n",
        "- Partial Derivative of $J$ with respect to $b^{[2]}$\n",
        "\n",
        "  - $\\partial{b^{[2]}}_{(13 \\times 1)} = \\frac{1}{m} \\sum \\partial{Z^{[2]}}_{(13 \\times m)}$"
      ],
      "metadata": {
        "id": "txeuTKJLXdeg"
      }
    },
    {
      "cell_type": "markdown",
      "source": [
        "![green-divider](https://user-images.githubusercontent.com/7065401/52071924-c003ad80-2562-11e9-8297-1c6595f8a7ff.png)\n",
        "\n"
      ],
      "metadata": {
        "id": "xe8sjLAxZuU5"
      }
    },
    {
      "cell_type": "markdown",
      "source": [
        "<br>\n",
        "\n",
        "- $\\partial{ReLU(Z)}$\n",
        "\n",
        "  - $0 ⟶ $ if $Z < 0$\n",
        "  - $1 ⟶ $ if $Z > 0$"
      ],
      "metadata": {
        "id": "MYw70wcYZupv"
      }
    },
    {
      "cell_type": "code",
      "source": [
        "# function to calculate derivative of ReLU\n",
        "def deriv_ReLU(z):\n",
        "  return z > 0\n",
        "  "
      ],
      "metadata": {
        "id": "UgW2ylFcZ9hx"
      },
      "execution_count": null,
      "outputs": []
    },
    {
      "cell_type": "code",
      "source": [
        "# test function\n",
        "deriv_ReLU(Z_2) * 1 "
      ],
      "metadata": {
        "colab": {
          "base_uri": "https://localhost:8080/"
        },
        "id": "raaGXUmDaPRM",
        "outputId": "a25343fd-fe65-40c5-e7b0-53d9416dc80a"
      },
      "execution_count": null,
      "outputs": [
        {
          "output_type": "execute_result",
          "data": {
            "text/plain": [
              "array([[0, 0, 0, ..., 0, 0, 1],\n",
              "       [0, 0, 0, ..., 0, 0, 0],\n",
              "       [1, 0, 0, ..., 1, 1, 1],\n",
              "       ...,\n",
              "       [0, 1, 0, ..., 0, 0, 0],\n",
              "       [1, 1, 1, ..., 1, 1, 1],\n",
              "       [0, 1, 0, ..., 1, 1, 0]])"
            ]
          },
          "metadata": {},
          "execution_count": 45
        }
      ]
    },
    {
      "cell_type": "markdown",
      "source": [
        "![green-divider](https://user-images.githubusercontent.com/7065401/52071924-c003ad80-2562-11e9-8297-1c6595f8a7ff.png)\n",
        "\n"
      ],
      "metadata": {
        "id": "0DPgRDTiadSw"
      }
    },
    {
      "cell_type": "markdown",
      "source": [
        "<br>\n",
        "\n",
        "- $\\partial{Z^{[2]}}$"
      ],
      "metadata": {
        "id": "8SnwLa0xadxw"
      }
    },
    {
      "cell_type": "code",
      "source": [
        "# partial dev of Z_2\n",
        "d_Z2 = np.dot(W_3.T, d_Z3) * deriv_ReLU(Z_2)\n",
        "\n",
        "# check shape\n",
        "print(f'd_Z2 shape: {d_Z2.shape}', '\\n')\n",
        "\n",
        "# check first 3 cols\n",
        "d_Z2[:, 0:3]"
      ],
      "metadata": {
        "colab": {
          "base_uri": "https://localhost:8080/"
        },
        "id": "j2bV0s8iahOb",
        "outputId": "56c37914-3ae0-4b93-e422-4b04533346c6"
      },
      "execution_count": null,
      "outputs": [
        {
          "output_type": "stream",
          "name": "stdout",
          "text": [
            "d_Z2 shape: (13, 48000) \n",
            "\n"
          ]
        },
        {
          "output_type": "execute_result",
          "data": {
            "text/plain": [
              "array([[-0.        ,  0.        , -0.        ],\n",
              "       [ 0.        , -0.        ,  0.        ],\n",
              "       [ 0.35662178, -0.        , -0.        ],\n",
              "       [-0.26091126, -0.28395778, -0.43447716],\n",
              "       [ 0.        ,  0.        ,  0.        ],\n",
              "       [-0.04009437,  0.        ,  0.06525285],\n",
              "       [ 0.        , -0.        ,  0.        ],\n",
              "       [ 0.42884065, -0.14539436, -0.24627418],\n",
              "       [-0.        ,  0.        , -0.        ],\n",
              "       [-0.01176868,  0.00167538,  0.49292455],\n",
              "       [-0.        , -0.54170638,  0.        ],\n",
              "       [ 0.19476213,  0.42708155, -0.21351894],\n",
              "       [ 0.        , -0.14234478, -0.        ]])"
            ]
          },
          "metadata": {},
          "execution_count": 46
        }
      ]
    },
    {
      "cell_type": "markdown",
      "source": [
        "<br>\n",
        "\n",
        "- $\\partial{\\vec{w}^{[2]}}$"
      ],
      "metadata": {
        "id": "siLgpcCCbBII"
      }
    },
    {
      "cell_type": "code",
      "source": [
        "# partial dev of W_2\n",
        "d_W2 = 1/m * np.dot(d_Z2, A_1.T)\n",
        "\n",
        "# check shape\n",
        "print(f'd_W2 shape: {d_W2.shape}', '\\n')\n",
        "\n",
        "# check first 3 cols\n",
        "d_W2[:, 0:3]"
      ],
      "metadata": {
        "colab": {
          "base_uri": "https://localhost:8080/"
        },
        "id": "Jn1BlE1tbGAw",
        "outputId": "3d5e4b08-f48a-4ca7-d3ee-01f07ab5712a"
      },
      "execution_count": null,
      "outputs": [
        {
          "output_type": "stream",
          "name": "stdout",
          "text": [
            "d_W2 shape: (13, 16) \n",
            "\n"
          ]
        },
        {
          "output_type": "execute_result",
          "data": {
            "text/plain": [
              "array([[ 0.05525343, -0.00037898,  0.02243518],\n",
              "       [ 0.00336046, -0.00949708, -0.01681852],\n",
              "       [-0.03075508,  0.02201916,  0.00448084],\n",
              "       [ 0.00033374, -0.01430079, -0.00237273],\n",
              "       [-0.0013256 , -0.00065657, -0.00056056],\n",
              "       [-0.01879888,  0.0066677 , -0.0131725 ],\n",
              "       [ 0.01953506,  0.00435598,  0.00143878],\n",
              "       [ 0.05078452, -0.01389918,  0.01574339],\n",
              "       [ 0.01709789, -0.00144582, -0.00062531],\n",
              "       [ 0.20052967,  0.03160236, -0.0113879 ],\n",
              "       [-0.00846972, -0.01201776,  0.00576323],\n",
              "       [ 0.10333167,  0.0191012 , -0.00274954],\n",
              "       [ 0.06330291, -0.00071767, -0.0044268 ]])"
            ]
          },
          "metadata": {},
          "execution_count": 47
        }
      ]
    },
    {
      "cell_type": "markdown",
      "source": [
        "<br>\n",
        "\n",
        "- $\\partial{b^{[2]}}$"
      ],
      "metadata": {
        "id": "6d_-3vZ0ba2f"
      }
    },
    {
      "cell_type": "code",
      "source": [
        "# partial dev of b_2\n",
        "d_b2 = 1/m * np.sum(d_Z2, axis=1) # sum row-wise\n",
        "# reshape to (13, 1)\n",
        "d_b2 = d_b2.reshape(13, 1)\n",
        "\n",
        "# check shape\n",
        "print(f'd_b2 shape: {d_b2.shape}', '\\n')\n",
        "\n",
        "d_b2"
      ],
      "metadata": {
        "colab": {
          "base_uri": "https://localhost:8080/"
        },
        "id": "-1l5ddvybenX",
        "outputId": "b0627371-b7cc-458e-8893-c1130ac0cd8f"
      },
      "execution_count": null,
      "outputs": [
        {
          "output_type": "stream",
          "name": "stdout",
          "text": [
            "d_b2 shape: (13, 1) \n",
            "\n"
          ]
        },
        {
          "output_type": "execute_result",
          "data": {
            "text/plain": [
              "array([[ 0.01829057],\n",
              "       [-0.0054564 ],\n",
              "       [ 0.00232671],\n",
              "       [-0.02226381],\n",
              "       [-0.00200952],\n",
              "       [ 0.01062895],\n",
              "       [ 0.01912862],\n",
              "       [ 0.03805019],\n",
              "       [-0.00047159],\n",
              "       [ 0.05101539],\n",
              "       [-0.0062635 ],\n",
              "       [ 0.05188115],\n",
              "       [ 0.01040889]])"
            ]
          },
          "metadata": {},
          "execution_count": 48
        }
      ]
    },
    {
      "cell_type": "markdown",
      "source": [
        "![green-divider](https://user-images.githubusercontent.com/7065401/52071924-c003ad80-2562-11e9-8297-1c6595f8a7ff.png)\n",
        "\n"
      ],
      "metadata": {
        "id": "hqWSqvRPbx6I"
      }
    },
    {
      "cell_type": "markdown",
      "source": [
        "#### Gradients of Layer 1\n",
        "\n",
        "<br>\n",
        "\n",
        "- $\\partial{Z^{[1]}} ⟶ $ Weight of Layer 2 $\\times$ Error of Layer 2 $\\times$ Derivative of Activation Function of Layer 1\n",
        "\n",
        "  - $\\partial{Z^{[1]}}_{(16 \\times m)} = \\vec{w}^{[2]}.T_{(16 \\times 13)} \\times \\partial{Z^{[2]}}_{(13 \\times m)} \\times \\partial{ReLU(Z^{[1]}})_{(16 \\times m)}$\n",
        "\n",
        "<br>\n",
        "\n",
        "- Partial Derivative of $J$ with respect to $\\vec{w}^{[1]}$\n",
        "\n",
        "  - $\\partial{\\vec{w}^{[1]}}_{(16 \\times 784)} = \\frac{1}{m} \\times \\partial{Z^{[1]}}_{(16 \\times m)} \\times A^{[0]}.T_{(m \\times 784)}$\n",
        "\n",
        "<br>\n",
        "\n",
        "- Partial Derivative of $J$ with respect to $b^{[1]}$\n",
        "\n",
        "  - $\\partial{b^{[1]}}_{(16 \\times 1)} = \\frac{1}{m} \\sum \\partial{Z^{[1]}}_{(16 \\times m)}$"
      ],
      "metadata": {
        "id": "v5n2E9zpbyWz"
      }
    },
    {
      "cell_type": "markdown",
      "source": [
        "![green-divider](https://user-images.githubusercontent.com/7065401/52071924-c003ad80-2562-11e9-8297-1c6595f8a7ff.png)\n",
        "\n"
      ],
      "metadata": {
        "id": "KMoKZmo6jBVY"
      }
    },
    {
      "cell_type": "markdown",
      "source": [
        "<br>\n",
        "\n",
        "- $\\partial{Z^{[1]}}$"
      ],
      "metadata": {
        "id": "XAMFe2Ryje-h"
      }
    },
    {
      "cell_type": "code",
      "source": [
        "# partial dev of Z_1\n",
        "d_Z1 = np.dot(W_2.T, d_Z2) * deriv_ReLU(Z_1)\n",
        "\n",
        "# check shape\n",
        "print(f'd_Z1 shape: {d_Z1.shape}', '\\n')\n",
        "\n",
        "# check first 3 cols\n",
        "d_Z1[:, 0:3]"
      ],
      "metadata": {
        "colab": {
          "base_uri": "https://localhost:8080/"
        },
        "id": "ijgfeFHGi8n4",
        "outputId": "5416345b-dfbc-4ff6-9a0f-511d432ac2f4"
      },
      "execution_count": null,
      "outputs": [
        {
          "output_type": "stream",
          "name": "stdout",
          "text": [
            "d_Z1 shape: (16, 48000) \n",
            "\n"
          ]
        },
        {
          "output_type": "execute_result",
          "data": {
            "text/plain": [
              "array([[ 0.05803773,  0.21143668,  0.20872142],\n",
              "       [-0.23697388,  0.03331892,  0.        ],\n",
              "       [-0.17187948, -0.        ,  0.36313928],\n",
              "       [-0.        , -0.        , -0.        ],\n",
              "       [ 0.23639518,  0.        , -0.11335892],\n",
              "       [-0.        ,  0.        , -0.        ],\n",
              "       [ 0.        ,  0.        ,  0.        ],\n",
              "       [-0.08308979, -0.07413897, -0.06600228],\n",
              "       [ 0.        ,  0.        , -0.        ],\n",
              "       [ 0.        ,  0.02629723, -0.        ],\n",
              "       [-0.        ,  0.        , -0.        ],\n",
              "       [ 0.        , -0.10701756, -0.        ],\n",
              "       [ 0.22290297, -0.        ,  0.        ],\n",
              "       [ 0.        ,  0.        ,  0.        ],\n",
              "       [-0.3568372 ,  0.        ,  0.        ],\n",
              "       [ 0.        ,  0.        , -0.        ]])"
            ]
          },
          "metadata": {},
          "execution_count": 49
        }
      ]
    },
    {
      "cell_type": "markdown",
      "source": [
        "<br>\n",
        "\n",
        "- $\\partial{\\vec{w}^{[1]}}$"
      ],
      "metadata": {
        "id": "fMgqVFj6jlKD"
      }
    },
    {
      "cell_type": "code",
      "source": [
        "# partial dev of W_1\n",
        "d_W1 = 1/m * np.dot(d_Z1, X_train_T.T)\n",
        "\n",
        "# check shape\n",
        "print(f'd_W1 shape: {d_W1.shape}', '\\n')\n",
        "\n",
        "# check first 3 cols\n",
        "d_W1[:, 0:3]"
      ],
      "metadata": {
        "colab": {
          "base_uri": "https://localhost:8080/"
        },
        "id": "UTCCCEnOjq9o",
        "outputId": "ec8ab678-26d8-4ff4-ee84-613a1e9664b0"
      },
      "execution_count": null,
      "outputs": [
        {
          "output_type": "stream",
          "name": "stdout",
          "text": [
            "d_W1 shape: (16, 784) \n",
            "\n"
          ]
        },
        {
          "output_type": "execute_result",
          "data": {
            "text/plain": [
              "array([[ 4.41444676e-07,  4.62144853e-06,  2.09267339e-05],\n",
              "       [-2.15322434e-08, -1.61456520e-07, -1.92297658e-07],\n",
              "       [ 4.38767120e-07, -2.17643492e-06, -1.46746741e-05],\n",
              "       [ 1.43830275e-07, -3.05305656e-06, -1.29675638e-05],\n",
              "       [-6.57659228e-08,  2.69971888e-06,  1.71678582e-05],\n",
              "       [ 0.00000000e+00,  1.21275892e-08,  1.88353476e-07],\n",
              "       [ 4.23877031e-07,  1.02612971e-06,  4.60345456e-06],\n",
              "       [ 3.79030720e-07,  2.97757883e-06,  1.46951372e-05],\n",
              "       [-4.81683152e-07, -2.30880437e-06, -9.61613486e-06],\n",
              "       [ 0.00000000e+00,  0.00000000e+00,  0.00000000e+00],\n",
              "       [-5.41697338e-07, -6.59546453e-07,  7.22434606e-07],\n",
              "       [ 1.74044276e-08,  2.63602437e-06,  1.08635374e-05],\n",
              "       [ 8.64843895e-08,  1.15189098e-06,  1.11094251e-05],\n",
              "       [ 0.00000000e+00,  0.00000000e+00,  1.32476267e-09],\n",
              "       [ 2.38403549e-08,  9.32443558e-07,  5.41314864e-06],\n",
              "       [ 0.00000000e+00,  1.45905194e-07,  1.17686582e-07]])"
            ]
          },
          "metadata": {},
          "execution_count": 50
        }
      ]
    },
    {
      "cell_type": "markdown",
      "source": [
        "<br>\n",
        "\n",
        "- $\\partial{b^{[1]}}$"
      ],
      "metadata": {
        "id": "-XGMsHY2kGja"
      }
    },
    {
      "cell_type": "code",
      "source": [
        "# partial dev of b_1\n",
        "d_b1 = 1/m * np.sum(d_Z1, axis=1) # sum row-wise\n",
        "# reshape to (16, 1)\n",
        "d_b1 = d_b1.reshape(16, 1)\n",
        "\n",
        "# check shape\n",
        "print(f'd_b1 shape: {d_b1.shape}', '\\n')\n",
        "\n",
        "d_b1"
      ],
      "metadata": {
        "colab": {
          "base_uri": "https://localhost:8080/"
        },
        "id": "nAP01OKckKCq",
        "outputId": "548a470d-f51e-4a57-8ff1-20b3801a6733"
      },
      "execution_count": null,
      "outputs": [
        {
          "output_type": "stream",
          "name": "stdout",
          "text": [
            "d_b1 shape: (16, 1) \n",
            "\n"
          ]
        },
        {
          "output_type": "execute_result",
          "data": {
            "text/plain": [
              "array([[ 0.03286693],\n",
              "       [ 0.00559806],\n",
              "       [-0.00166801],\n",
              "       [-0.00562428],\n",
              "       [ 0.01408304],\n",
              "       [-0.00011642],\n",
              "       [-0.0027098 ],\n",
              "       [ 0.02020715],\n",
              "       [ 0.00955806],\n",
              "       [ 0.00446729],\n",
              "       [ 0.01293625],\n",
              "       [ 0.00294664],\n",
              "       [ 0.01590083],\n",
              "       [ 0.00070286],\n",
              "       [-0.00093175],\n",
              "       [ 0.00232497]])"
            ]
          },
          "metadata": {},
          "execution_count": 51
        }
      ]
    },
    {
      "cell_type": "markdown",
      "source": [
        "![green-divider](https://user-images.githubusercontent.com/7065401/52071924-c003ad80-2562-11e9-8297-1c6595f8a7ff.png)\n",
        "\n"
      ],
      "metadata": {
        "id": "0msWLSjamvwR"
      }
    },
    {
      "cell_type": "markdown",
      "source": [
        "#### Backward Prop Function"
      ],
      "metadata": {
        "id": "93Ws8jb_mwJZ"
      }
    },
    {
      "cell_type": "code",
      "source": [
        "# function to calculate back propagation\n",
        "def back_prop(x, y, a3, a2, a1, z2, z1, w3, w2):\n",
        "  # store m\n",
        "  m = x.shape[1]\n",
        "\n",
        "  # Gradients of Layer 3\n",
        "  dz3 = a3 - one_hot_Y(y)\n",
        "  dw3 = 1/m * np.dot(dz3, a2.T)\n",
        "  db3 = 1/m * np.sum(dz3, axis=1)\n",
        "  # reshape to (10, 1)\n",
        "  db3 = db3.reshape(10, 1)\n",
        "\n",
        "  # Gradients of Layer 2\n",
        "  dz2 = np.dot(w3.T, dz3) * deriv_ReLU(z2)\n",
        "  dw2 = 1/m * np.dot(dz2, a1.T)\n",
        "  db2 = 1/m * np.sum(dz2, axis=1)\n",
        "  # reshape to (13, 1)\n",
        "  db2 = db2.reshape(13, 1)\n",
        "\n",
        "  # Gradients of Layer 1\n",
        "  dz1 = np.dot(w2.T, dz2) * deriv_ReLU(z1)\n",
        "  dw1 = 1/m * np.dot(dz1, x.T)\n",
        "  db1 = 1/m * np.sum(dz1, axis=1)\n",
        "  # reshape to (16, 1)\n",
        "  db1 = db1.reshape(16, 1)\n",
        "\n",
        "  return dz3, dw3, db3, dz2, dw2, db2, dz1, dw1, db1\n",
        "\n"
      ],
      "metadata": {
        "id": "4-0gw4Ihm4P0"
      },
      "execution_count": null,
      "outputs": []
    },
    {
      "cell_type": "code",
      "source": [
        "# test function\n",
        "dz3, dw3, db3, dz2, dw2, db2, dz1, dw1, db1 = back_prop(X_train_T, Y_train, A_3, A_2, A_1,\n",
        "                                                        Z_2, Z_1, W_3, W_2)\n",
        "\n",
        "# check shape of dz1\n",
        "print(f'dz1 shape: {dz1.shape}', '\\n')\n",
        "\n",
        "# check first 3 cols\n",
        "dz1[:, 0:3]"
      ],
      "metadata": {
        "colab": {
          "base_uri": "https://localhost:8080/"
        },
        "id": "xqrfRUafsP3h",
        "outputId": "be92f3a3-9822-410d-f8e6-5176a08658ba"
      },
      "execution_count": null,
      "outputs": [
        {
          "output_type": "stream",
          "name": "stdout",
          "text": [
            "dz1 shape: (16, 48000) \n",
            "\n"
          ]
        },
        {
          "output_type": "execute_result",
          "data": {
            "text/plain": [
              "array([[ 0.05803773,  0.21143668,  0.20872142],\n",
              "       [-0.23697388,  0.03331892,  0.        ],\n",
              "       [-0.17187948, -0.        ,  0.36313928],\n",
              "       [-0.        , -0.        , -0.        ],\n",
              "       [ 0.23639518,  0.        , -0.11335892],\n",
              "       [-0.        ,  0.        , -0.        ],\n",
              "       [ 0.        ,  0.        ,  0.        ],\n",
              "       [-0.08308979, -0.07413897, -0.06600228],\n",
              "       [ 0.        ,  0.        , -0.        ],\n",
              "       [ 0.        ,  0.02629723, -0.        ],\n",
              "       [-0.        ,  0.        , -0.        ],\n",
              "       [ 0.        , -0.10701756, -0.        ],\n",
              "       [ 0.22290297, -0.        ,  0.        ],\n",
              "       [ 0.        ,  0.        ,  0.        ],\n",
              "       [-0.3568372 ,  0.        ,  0.        ],\n",
              "       [ 0.        ,  0.        , -0.        ]])"
            ]
          },
          "metadata": {},
          "execution_count": 53
        }
      ]
    },
    {
      "cell_type": "markdown",
      "source": [
        "![purple-divider](https://user-images.githubusercontent.com/7065401/52071927-c1cd7100-2562-11e9-908a-dde91ba14e59.png)"
      ],
      "metadata": {
        "id": "Qj3VPWbmvifd"
      }
    },
    {
      "cell_type": "markdown",
      "source": [
        "### Gradient Descent\n",
        "\n",
        "- We ran Gradient Descent to find the Best Parameters $\\vec{w}$ and $b$ that Minimize Cost $J$\n",
        "\n",
        "  - We Update Parametes until Convergence:\n",
        "\n",
        "  <br>\n",
        "\n",
        "  $$\\vec{w}^{[3]} = \\vec{w}^{[3]} - \\alpha \\times \\partial{w}^{[3]}$$\n",
        "  <br>\n",
        "  $$ b^{[3]} = b^{[3]} - \\alpha \\times \\partial{b}^{[3]}$$\n",
        "  <br>\n",
        "  $$\\vec{w}^{[2]} = \\vec{w}^{[2]} - \\alpha \\times \\partial{w}^{[2]}$$\n",
        "  <br>\n",
        "  $$ b^{[2]} = b^{[2]} - \\alpha \\times \\partial{b}^{[2]}$$\n",
        "  <br>\n",
        "  $$\\vec{w}^{[1]} = \\vec{w}^{[1]} - \\alpha \\times \\partial{w}^{[1]}$$\n",
        "  <br>\n",
        "  $$ b^{[1]} = b^{[1]} - \\alpha \\times \\partial{b}^{[1]}$$\n",
        "  <br>"
      ],
      "metadata": {
        "id": "XyCZSfftvi0y"
      }
    },
    {
      "cell_type": "code",
      "source": [
        "# function to run gradient descent\n",
        "def gradient_descent(x, y, w1, b1, w2, b2, w3, b3, epochs, learning_rate):\n",
        "\n",
        "  '''Run Gradient Descent to find Best Parameters of W an b\n",
        "     that Minimize Cost J'''\n",
        "\n",
        "\n",
        "  # array to store losses\n",
        "  losses = np.zeros(epochs)\n",
        "  # array to store accuracies\n",
        "  accuracies = np.zeros(epochs)\n",
        "\n",
        "\n",
        "  for epoch in range(epochs):\n",
        "    # Forward Prop\n",
        "    z1, a1, z2, a2, z3, a3 = forward_prop(x, w1, b1, w2, b2, w3, b3)\n",
        "\n",
        "    # Loss at ith epoch\n",
        "    loss = cross_entropy_loss(a3, y)\n",
        "    # store loss\n",
        "    losses[epoch] = loss\n",
        "\n",
        "    # Back Propagation\n",
        "    dz3, dw3, db3, dz2, dw2, db2, dz1, dw1, db1 = back_prop(x, y, a3, a2, a1, z2, z1,\n",
        "                                                            w3, w2)\n",
        "    \n",
        "    # Update Params\n",
        "    w3 = w3 - learning_rate * dw3\n",
        "    b3 = b3 - learning_rate * db3\n",
        "    w2 = w2 - learning_rate * dw2\n",
        "    b2 = b2 - learning_rate * db2\n",
        "    w1 = w1 - learning_rate * dw1\n",
        "    b1 = b1 - learning_rate * db1\n",
        "\n",
        "    # predictions at ith epoch\n",
        "    predictions = np.argmax(a3, axis=0)\n",
        "    # accuracy at ith epoch\n",
        "    accuracy = np.sum(predictions == y) / len(y)\n",
        "    # store accuracy\n",
        "    accuracies[epoch] = accuracy\n",
        "\n",
        "    # every 10th epoch\n",
        "    if epoch % 10 == 0:\n",
        "      print(f'Epoch: {epoch}, Predictions: {predictions}, Labels: {y}, Accuracy: {accuracy:.4f}')\n",
        "\n",
        "  return w3, b3, w2, b2, w1, b1, losses, accuracies"
      ],
      "metadata": {
        "id": "h0DkIeO5xvHT"
      },
      "execution_count": null,
      "outputs": []
    },
    {
      "cell_type": "code",
      "source": [
        "# set epochs and learning rate\n",
        "epochs = 500\n",
        "alpha = 0.3 \n",
        "\n",
        "# test function\n",
        "w3, b3, w2, b2, w1, b1, losses_i, accuracies_i = gradient_descent(X_train_T, Y_train, W_1, b_1, \n",
        "                                                                  W_2, b_2, W_3, b_3, epochs, alpha)\n",
        "\n"
      ],
      "metadata": {
        "colab": {
          "base_uri": "https://localhost:8080/"
        },
        "id": "lsRMgiV7PFqE",
        "outputId": "e05b75b0-d709-4538-a1ad-b0b7cfb33de8"
      },
      "execution_count": null,
      "outputs": [
        {
          "output_type": "stream",
          "name": "stdout",
          "text": [
            "Epoch: 0, Predictions: [1 5 1 ... 4 2 5], Labels: [0 9 6 ... 8 6 2], Accuracy: 0.1974\n",
            "Epoch: 10, Predictions: [3 9 3 ... 4 2 6], Labels: [0 9 6 ... 8 6 2], Accuracy: 0.4047\n",
            "Epoch: 20, Predictions: [1 9 0 ... 4 2 6], Labels: [0 9 6 ... 8 6 2], Accuracy: 0.5646\n",
            "Epoch: 30, Predictions: [3 9 0 ... 8 2 6], Labels: [0 9 6 ... 8 6 2], Accuracy: 0.6162\n",
            "Epoch: 40, Predictions: [3 9 0 ... 8 2 6], Labels: [0 9 6 ... 8 6 2], Accuracy: 0.6446\n",
            "Epoch: 50, Predictions: [3 9 0 ... 8 4 6], Labels: [0 9 6 ... 8 6 2], Accuracy: 0.6453\n",
            "Epoch: 60, Predictions: [0 9 0 ... 8 4 6], Labels: [0 9 6 ... 8 6 2], Accuracy: 0.6528\n",
            "Epoch: 70, Predictions: [0 9 0 ... 8 2 6], Labels: [0 9 6 ... 8 6 2], Accuracy: 0.6898\n",
            "Epoch: 80, Predictions: [3 9 0 ... 8 4 6], Labels: [0 9 6 ... 8 6 2], Accuracy: 0.6760\n",
            "Epoch: 90, Predictions: [3 9 0 ... 8 4 6], Labels: [0 9 6 ... 8 6 2], Accuracy: 0.6969\n",
            "Epoch: 100, Predictions: [3 9 0 ... 8 4 6], Labels: [0 9 6 ... 8 6 2], Accuracy: 0.7078\n",
            "Epoch: 110, Predictions: [3 9 0 ... 8 4 6], Labels: [0 9 6 ... 8 6 2], Accuracy: 0.7136\n",
            "Epoch: 120, Predictions: [3 9 0 ... 8 4 6], Labels: [0 9 6 ... 8 6 2], Accuracy: 0.7206\n",
            "Epoch: 130, Predictions: [0 9 0 ... 8 4 6], Labels: [0 9 6 ... 8 6 2], Accuracy: 0.7294\n",
            "Epoch: 140, Predictions: [3 9 0 ... 8 4 6], Labels: [0 9 6 ... 8 6 2], Accuracy: 0.7312\n",
            "Epoch: 150, Predictions: [3 9 0 ... 8 4 6], Labels: [0 9 6 ... 8 6 2], Accuracy: 0.7402\n",
            "Epoch: 160, Predictions: [0 9 0 ... 8 4 6], Labels: [0 9 6 ... 8 6 2], Accuracy: 0.7425\n",
            "Epoch: 170, Predictions: [0 9 0 ... 8 4 6], Labels: [0 9 6 ... 8 6 2], Accuracy: 0.7467\n",
            "Epoch: 180, Predictions: [0 9 0 ... 8 4 6], Labels: [0 9 6 ... 8 6 2], Accuracy: 0.7480\n",
            "Epoch: 190, Predictions: [0 9 0 ... 8 2 6], Labels: [0 9 6 ... 8 6 2], Accuracy: 0.7491\n",
            "Epoch: 200, Predictions: [0 9 0 ... 8 2 6], Labels: [0 9 6 ... 8 6 2], Accuracy: 0.7371\n",
            "Epoch: 210, Predictions: [0 9 0 ... 8 2 6], Labels: [0 9 6 ... 8 6 2], Accuracy: 0.7508\n",
            "Epoch: 220, Predictions: [0 9 0 ... 8 6 6], Labels: [0 9 6 ... 8 6 2], Accuracy: 0.7567\n",
            "Epoch: 230, Predictions: [0 9 0 ... 8 6 6], Labels: [0 9 6 ... 8 6 2], Accuracy: 0.7617\n",
            "Epoch: 240, Predictions: [0 9 0 ... 8 2 6], Labels: [0 9 6 ... 8 6 2], Accuracy: 0.7582\n",
            "Epoch: 250, Predictions: [0 9 0 ... 8 4 6], Labels: [0 9 6 ... 8 6 2], Accuracy: 0.7700\n",
            "Epoch: 260, Predictions: [0 9 0 ... 8 4 6], Labels: [0 9 6 ... 8 6 2], Accuracy: 0.7711\n",
            "Epoch: 270, Predictions: [0 9 0 ... 8 4 6], Labels: [0 9 6 ... 8 6 2], Accuracy: 0.7683\n",
            "Epoch: 280, Predictions: [0 9 0 ... 8 4 6], Labels: [0 9 6 ... 8 6 2], Accuracy: 0.7778\n",
            "Epoch: 290, Predictions: [0 9 0 ... 8 4 6], Labels: [0 9 6 ... 8 6 2], Accuracy: 0.7809\n",
            "Epoch: 300, Predictions: [0 9 0 ... 8 4 6], Labels: [0 9 6 ... 8 6 2], Accuracy: 0.7811\n",
            "Epoch: 310, Predictions: [0 9 0 ... 8 4 6], Labels: [0 9 6 ... 8 6 2], Accuracy: 0.7827\n",
            "Epoch: 320, Predictions: [0 9 0 ... 8 4 6], Labels: [0 9 6 ... 8 6 2], Accuracy: 0.7778\n",
            "Epoch: 330, Predictions: [0 9 0 ... 8 4 6], Labels: [0 9 6 ... 8 6 2], Accuracy: 0.7811\n",
            "Epoch: 340, Predictions: [0 9 0 ... 8 6 6], Labels: [0 9 6 ... 8 6 2], Accuracy: 0.7864\n",
            "Epoch: 350, Predictions: [0 9 0 ... 8 6 6], Labels: [0 9 6 ... 8 6 2], Accuracy: 0.7868\n",
            "Epoch: 360, Predictions: [0 9 0 ... 8 6 6], Labels: [0 9 6 ... 8 6 2], Accuracy: 0.7904\n",
            "Epoch: 370, Predictions: [0 9 0 ... 8 6 6], Labels: [0 9 6 ... 8 6 2], Accuracy: 0.7920\n",
            "Epoch: 380, Predictions: [0 9 0 ... 8 4 6], Labels: [0 9 6 ... 8 6 2], Accuracy: 0.7896\n",
            "Epoch: 390, Predictions: [0 9 0 ... 8 4 6], Labels: [0 9 6 ... 8 6 2], Accuracy: 0.7915\n",
            "Epoch: 400, Predictions: [0 9 0 ... 8 4 6], Labels: [0 9 6 ... 8 6 2], Accuracy: 0.7954\n",
            "Epoch: 410, Predictions: [0 9 0 ... 8 4 6], Labels: [0 9 6 ... 8 6 2], Accuracy: 0.7991\n",
            "Epoch: 420, Predictions: [0 9 0 ... 8 6 6], Labels: [0 9 6 ... 8 6 2], Accuracy: 0.7970\n",
            "Epoch: 430, Predictions: [0 9 0 ... 8 6 6], Labels: [0 9 6 ... 8 6 2], Accuracy: 0.7987\n",
            "Epoch: 440, Predictions: [0 9 0 ... 8 6 6], Labels: [0 9 6 ... 8 6 2], Accuracy: 0.8011\n",
            "Epoch: 450, Predictions: [0 9 0 ... 8 6 6], Labels: [0 9 6 ... 8 6 2], Accuracy: 0.7972\n",
            "Epoch: 460, Predictions: [0 9 0 ... 8 6 6], Labels: [0 9 6 ... 8 6 2], Accuracy: 0.7996\n",
            "Epoch: 470, Predictions: [0 9 0 ... 8 6 6], Labels: [0 9 6 ... 8 6 2], Accuracy: 0.8009\n",
            "Epoch: 480, Predictions: [0 9 0 ... 8 6 6], Labels: [0 9 6 ... 8 6 2], Accuracy: 0.7971\n",
            "Epoch: 490, Predictions: [0 9 0 ... 8 6 6], Labels: [0 9 6 ... 8 6 2], Accuracy: 0.8066\n"
          ]
        }
      ]
    },
    {
      "cell_type": "code",
      "source": [
        "# plot losses and accuracies\n",
        "fig, (ax1, ax2) = plt.subplots(1, 2, figsize=(18, 6))\n",
        "\n",
        "# Loss\n",
        "ax1.plot(losses_i, 'go', markerfacecolor='w', lw=0.1)\n",
        "\n",
        "ax1.set_xlabel('Epoch')\n",
        "ax1.set_ylabel('Loss')\n",
        "ax1.set_title('Fashion ANN-Classifier Losses', pad=13, size=15)\n",
        "\n",
        "# Accuracy\n",
        "ax2.plot(accuracies_i, color='purple')\n",
        "\n",
        "ax2.set_xlabel('Epoch')\n",
        "ax2.set_ylabel('Accuracy')\n",
        "ax2.set_title(f'Fashion ANN-Classifier - Accuracy: {accuracies_i[-1]:.4f}', pad=13, size=15)\n",
        "\n",
        "\n",
        "plt.show()"
      ],
      "metadata": {
        "colab": {
          "base_uri": "https://localhost:8080/",
          "height": 519
        },
        "id": "mENmsa6nYidN",
        "outputId": "190d8dea-b0c4-494b-b4e4-9f86c682d097"
      },
      "execution_count": null,
      "outputs": [
        {
          "output_type": "display_data",
          "data": {
            "text/plain": [
              "<Figure size 1800x600 with 2 Axes>"
            ],
            "image/png": "[encoded data removed]"
          },
          "metadata": {}
        }
      ]
    },
    {
      "cell_type": "markdown",
      "source": [
        "![purple-divider](https://user-images.githubusercontent.com/7065401/52071927-c1cd7100-2562-11e9-908a-dde91ba14e59.png)"
      ],
      "metadata": {
        "id": "UcT0OYnSEO-K"
      }
    },
    {
      "cell_type": "markdown",
      "source": [
        "## Parametric Experiments"
      ],
      "metadata": {
        "id": "FQ8-LuniEPfa"
      }
    },
    {
      "cell_type": "markdown",
      "source": [
        "![green-divider](https://user-images.githubusercontent.com/7065401/52071924-c003ad80-2562-11e9-8297-1c6595f8a7ff.png)\n",
        "\n"
      ],
      "metadata": {
        "id": "-lvlX6QaEUOk"
      }
    },
    {
      "cell_type": "markdown",
      "source": [
        "### Learning Rates\n",
        "\n",
        "- A Parametric Experiment is going to be run to find the Learning Rate with the highest average accuracy, with a fixed number of epochs"
      ],
      "metadata": {
        "id": "08FntfjcEV5W"
      }
    },
    {
      "cell_type": "code",
      "source": [
        "# array of learning rates\n",
        "learning_rates = np.linspace(0.09, 0.3, 3)\n",
        "\n",
        "learning_rates"
      ],
      "metadata": {
        "colab": {
          "base_uri": "https://localhost:8080/"
        },
        "id": "qIKA9EGcEfMx",
        "outputId": "6b378795-36a2-4314-8957-600d612e4371"
      },
      "execution_count": null,
      "outputs": [
        {
          "output_type": "execute_result",
          "data": {
            "text/plain": [
              "array([0.09 , 0.195, 0.3  ])"
            ]
          },
          "metadata": {},
          "execution_count": 57
        }
      ]
    },
    {
      "cell_type": "code",
      "source": [
        "# function to run experimental gradient descent\n",
        "def gradient_descent_explr(x, y, w1, b1, w2, b2, w3, b3, epochs, learning_rate):\n",
        "\n",
        "  for epoch in range(epochs):\n",
        "    # Forward Prop\n",
        "    z1, a1, z2, a2, z3, a3 = forward_prop(x, w1, b1, w2, b2, w3, b3)\n",
        "    # Back Prop\n",
        "    dz3, dw3, db3, dz2, dw2, db2, dz1, dw1, db1 = back_prop(x, y, a3, a2, a1, z2, z1, w3, w2)\n",
        "    # Update Params\n",
        "    w3 = w3 - learning_rate * dw3\n",
        "    b3 = b3 - learning_rate * db3\n",
        "    w2 = w2 - learning_rate * dw2\n",
        "    b2 = b2 - learning_rate * db2\n",
        "    w1 = w1 - learning_rate * dw1\n",
        "    b1 = b1 - learning_rate * db1\n",
        "\n",
        "  # predictions\n",
        "  final_predict = np.argmax(a3, axis=0)\n",
        "  # store final accuracy\n",
        "  final_accuracy = np.sum(final_predict == y) / len(y)\n",
        "\n",
        "  return final_accuracy"
      ],
      "metadata": {
        "id": "mkyMhrtrEzcd"
      },
      "execution_count": null,
      "outputs": []
    },
    {
      "cell_type": "code",
      "source": [
        "# number of experiments\n",
        "num_exp_lr = 2\n",
        "\n",
        "# array to store accuracies per learning rate\n",
        "accuracies_lr = np.zeros((len(learning_rates), num_exp_lr))\n",
        "\n",
        "# run learning rate experiment\n",
        "for idx_e in range(num_exp_lr):\n",
        "\n",
        "  for idx_lr, alpha in enumerate(learning_rates):\n",
        "    # run gradient descent with ith learning rate\n",
        "    accuracy_i = gradient_descent_explr(X_train_T, Y_train, W_1, b_1, W_2, b_2, W_3, b_3,\n",
        "                                        epochs, alpha)\n",
        "    # store accuracy for ith learning rate\n",
        "    accuracies_lr[idx_lr, idx_e] = accuracy_i"
      ],
      "metadata": {
        "id": "MMloegzIErPt"
      },
      "execution_count": null,
      "outputs": []
    },
    {
      "cell_type": "code",
      "source": [
        "# mean accuracy per learning rate\n",
        "mean_accuracies_lr = np.mean(accuracies_lr, axis=1)\n",
        "\n",
        "mean_accuracies_lr"
      ],
      "metadata": {
        "id": "dYerNFz_H0go",
        "colab": {
          "base_uri": "https://localhost:8080/"
        },
        "outputId": "617b3529-8655-4ade-f20f-53a468f92bd6"
      },
      "execution_count": null,
      "outputs": [
        {
          "output_type": "execute_result",
          "data": {
            "text/plain": [
              "array([0.76470833, 0.7946875 , 0.7985625 ])"
            ]
          },
          "metadata": {},
          "execution_count": 60
        }
      ]
    },
    {
      "cell_type": "code",
      "source": [
        "# plot accuracies\n",
        "fig, ax = plt.subplots(figsize=(8, 6))\n",
        "\n",
        "plt.plot(learning_rates, mean_accuracies_lr, 'ms-')\n",
        "\n",
        "plt.xlabel('Learning Rate')\n",
        "plt.ylabel('Accuracy')\n",
        "\n",
        "plt.title('Mean Accuracies by Learning Rate', pad=13, size=15)\n",
        "\n",
        "plt.show()"
      ],
      "metadata": {
        "id": "wN5xEk0lIAYv",
        "colab": {
          "base_uri": "https://localhost:8080/",
          "height": 584
        },
        "outputId": "440a5e39-ecd1-495a-81dd-0cc955ab43c2"
      },
      "execution_count": null,
      "outputs": [
        {
          "output_type": "display_data",
          "data": {
            "text/plain": [
              "<Figure size 800x600 with 1 Axes>"
            ],
            "image/png": "[encoded data removed]"
          },
          "metadata": {}
        }
      ]
    },
    {
      "cell_type": "markdown",
      "source": [
        "- As the plot above shows, after running the Parametric experiment on the Learning Rate, a Learning Rate of 0.3 has the highest average accuracy when Training the Model"
      ],
      "metadata": {
        "id": "4-ZS1CiuaTeZ"
      }
    },
    {
      "cell_type": "markdown",
      "source": [
        "![purple-divider](https://user-images.githubusercontent.com/7065401/52071927-c1cd7100-2562-11e9-908a-dde91ba14e59.png)"
      ],
      "metadata": {
        "id": "bSa4f_beeTT3"
      }
    },
    {
      "cell_type": "markdown",
      "source": [
        "## Predictions on Test Data\n",
        "\n"
      ],
      "metadata": {
        "id": "PN0UKZ66eTo4"
      }
    },
    {
      "cell_type": "code",
      "source": [
        "# Parameters that Minimize Cost\n",
        "\n",
        "# w1\n",
        "print(f'w1 shape: {w1.shape}')\n",
        "print(w1[:, 0:3], '\\n')\n",
        "# b1\n",
        "print(f'b1 shape: {b1.shape}')\n",
        "print(b1[:4], '\\n')\n",
        "\n",
        "# w2\n",
        "print(f'w2 shape: {w2.shape}')\n",
        "print(w2[:, 0:3], '\\n')\n",
        "# b2\n",
        "print(f'b2 shape: {b2.shape}')\n",
        "print(b2[:4], '\\n')\n",
        "\n",
        "# w3\n",
        "print(f'w3 shape: {w3.shape}')\n",
        "print(w3[:, 0:3], '\\n')\n",
        "# b3\n",
        "print(f'b3 shape: {b3.shape}')\n",
        "print(b3[:4], '\\n')"
      ],
      "metadata": {
        "colab": {
          "base_uri": "https://localhost:8080/"
        },
        "id": "3nVccfEGebdK",
        "outputId": "0b8becb9-b124-40d3-c17e-389b7c1f13c6"
      },
      "execution_count": null,
      "outputs": [
        {
          "output_type": "stream",
          "name": "stdout",
          "text": [
            "w1 shape: (16, 784)\n",
            "[[ 0.19646934 -0.21389864 -0.27195015]\n",
            " [-0.16943156  0.42031713  0.44756912]\n",
            " [-0.02307572  0.18819889  0.23777761]\n",
            " [ 0.06078415  0.38304436 -0.25327543]\n",
            " [-0.12570832 -0.10640808 -0.17660384]\n",
            " [ 0.04728657 -0.40925811  0.10698785]\n",
            " [ 0.45061349  0.4091914  -0.20385711]\n",
            " [-0.05641344 -0.3239557   0.47195341]\n",
            " [ 0.40315979 -0.46042506 -0.07880117]\n",
            " [-0.28835156  0.48939585 -0.04792802]\n",
            " [ 0.39964572 -0.37344441  0.10779585]\n",
            " [ 0.1127459   0.44903355 -0.19781844]\n",
            " [ 0.30220262 -0.27021028 -0.33885516]\n",
            " [ 0.17476273 -0.29406011  0.43804466]\n",
            " [-0.0322935   0.31850844 -0.02490901]\n",
            " [-0.46966517  0.05567139 -0.21770231]] \n",
            "\n",
            "b1 shape: (16, 1)\n",
            "[[ 0.11505776]\n",
            " [ 0.46713474]\n",
            " [-0.13907638]\n",
            " [ 0.25247664]] \n",
            "\n",
            "w2 shape: (13, 16)\n",
            "[[ 0.21610781 -0.1603227  -0.27214108]\n",
            " [-0.45863645 -0.20644516 -0.03471964]\n",
            " [-0.17162171 -0.21217692  0.05350488]\n",
            " [-0.30280469  0.27998072 -0.44281027]\n",
            " [-0.25392641 -0.24973187 -0.1944172 ]\n",
            " [ 0.07535401 -0.18613213  0.60858493]\n",
            " [-0.58997083  0.63567076 -0.29485341]\n",
            " [ 0.29153668 -0.23951555 -0.33942267]\n",
            " [-0.36622407 -0.29058126 -0.27099688]\n",
            " [ 0.12029668  0.44759534  0.17763755]\n",
            " [-0.14148946  0.18220365  0.36556214]\n",
            " [ 0.26233619 -0.08414096 -0.65800217]\n",
            " [ 0.06928116 -0.16503335 -0.43193211]] \n",
            "\n",
            "b2 shape: (13, 1)\n",
            "[[ 0.00870676]\n",
            " [-0.26030419]\n",
            " [-0.0511552 ]\n",
            " [ 0.69039987]] \n",
            "\n",
            "w3 shape: (10, 13)\n",
            "[[ 0.20610806 -0.22692986  0.13963114]\n",
            " [ 0.06295994  0.68083254 -0.16058635]\n",
            " [-0.36475225 -0.02424382  0.26917809]\n",
            " [ 0.25001354  0.33973541 -0.39980901]\n",
            " [-0.43965092  0.52741097  0.41975514]\n",
            " [ 0.51204674 -0.57914502 -0.22173873]\n",
            " [ 0.18389493 -0.22338211  0.15541491]\n",
            " [-0.11034937  0.16550265 -0.63926219]\n",
            " [ 0.34172254  0.25093516  0.85909666]\n",
            " [ 0.09781229  0.05013681 -0.41329533]] \n",
            "\n",
            "b3 shape: (10, 1)\n",
            "[[ 0.38780242]\n",
            " [ 0.18582458]\n",
            " [ 0.29367907]\n",
            " [-0.48812883]] \n",
            "\n"
          ]
        }
      ]
    },
    {
      "cell_type": "markdown",
      "source": [
        "![green-divider](https://user-images.githubusercontent.com/7065401/52071924-c003ad80-2562-11e9-8297-1c6595f8a7ff.png)\n",
        "\n"
      ],
      "metadata": {
        "id": "Vlni7lZTftdJ"
      }
    },
    {
      "cell_type": "markdown",
      "source": [
        "### Forward Propagation on Test Data"
      ],
      "metadata": {
        "id": "a9YQgMm2fxsq"
      }
    },
    {
      "cell_type": "code",
      "source": [
        "# forward pass on X_test_T\n",
        "z1, a1, z2, a2, z3, a3 = forward_prop(X_test_T, w1, b1, w2, b2, w3, b3)\n",
        "\n",
        "# shape of a3\n",
        "print(f'a3 shape: {a3.shape}', '\\n')\n",
        "\n",
        "# check first 4 cols\n",
        "a3[:, 0:4]"
      ],
      "metadata": {
        "colab": {
          "base_uri": "https://localhost:8080/"
        },
        "id": "qrc31WupfRPR",
        "outputId": "70cbee26-ba2c-4a1d-9de3-fa5ef4dd5f4f"
      },
      "execution_count": null,
      "outputs": [
        {
          "output_type": "stream",
          "name": "stdout",
          "text": [
            "a3 shape: (10, 12000) \n",
            "\n"
          ]
        },
        {
          "output_type": "execute_result",
          "data": {
            "text/plain": [
              "array([[5.08857409e-08, 9.22760380e-06, 7.19242019e-02, 6.85108373e-06],\n",
              "       [1.38061883e-06, 9.99921090e-01, 5.43458845e-05, 3.52651843e-08],\n",
              "       [4.92823392e-07, 4.88102766e-07, 8.66588662e-03, 3.47550811e-07],\n",
              "       [3.28116740e-05, 6.12635599e-05, 4.12696420e-02, 9.20104989e-09],\n",
              "       [3.09288452e-07, 2.34544534e-07, 1.63518070e-02, 1.68578765e-07],\n",
              "       [4.03561903e-03, 1.81155439e-08, 1.19201492e-07, 5.03135432e-02],\n",
              "       [2.78143622e-08, 1.01307492e-06, 8.60737710e-01, 4.65056142e-06],\n",
              "       [9.90507654e-01, 2.66816313e-11, 3.92744277e-08, 3.82808401e-03],\n",
              "       [4.50623820e-05, 6.66373935e-06, 9.96112889e-04, 9.03365291e-04],\n",
              "       [5.37659171e-03, 1.36599698e-09, 1.34831147e-07, 9.44942945e-01]])"
            ]
          },
          "metadata": {},
          "execution_count": 72
        }
      ]
    },
    {
      "cell_type": "code",
      "source": [
        "# predictions\n",
        "predict_test = np.argmax(a3, axis=0)\n",
        "\n",
        "# check shape\n",
        "print(f'Predictions shape: {predict_test.shape}', '\\n')\n",
        "\n",
        "# first 20 predictions\n",
        "print(f'First 20 Predictions: {predict_test[0:20]}')\n",
        "print(f'First 20 Labels:      {Y_test[:20]}')"
      ],
      "metadata": {
        "colab": {
          "base_uri": "https://localhost:8080/"
        },
        "id": "Yc68vWn-gCL4",
        "outputId": "cda8d640-14c8-448e-ea71-3d01b56e4627"
      },
      "execution_count": null,
      "outputs": [
        {
          "output_type": "stream",
          "name": "stdout",
          "text": [
            "Predictions shape: (12000,) \n",
            "\n",
            "First 20 Predictions: [7 1 6 9 9 5 8 4 0 6 4 7 4 2 6 0 5 2 1 4]\n",
            "First 20 Labels:      [7 1 6 9 9 5 8 4 0 6 3 7 0 2 6 0 5 2 1 4]\n"
          ]
        }
      ]
    },
    {
      "cell_type": "markdown",
      "source": [
        "![green-divider](https://user-images.githubusercontent.com/7065401/52071924-c003ad80-2562-11e9-8297-1c6595f8a7ff.png)\n",
        "\n"
      ],
      "metadata": {
        "id": "UBQKUHm2gwgh"
      }
    },
    {
      "cell_type": "markdown",
      "source": [
        "### Accuracy on Test Data"
      ],
      "metadata": {
        "id": "ysHO9gXBgw4G"
      }
    },
    {
      "cell_type": "code",
      "source": [
        "# accuracy on Test Data\n",
        "accuracy_test = np.sum(predict_test == Y_test) / len(Y_test)\n",
        "\n",
        "print(f'Accuracy on Test Data: {accuracy_test:.4f}')"
      ],
      "metadata": {
        "colab": {
          "base_uri": "https://localhost:8080/"
        },
        "id": "UccdoIR0g8w-",
        "outputId": "cc24e886-d824-419e-a62b-2ab4e1273c25"
      },
      "execution_count": null,
      "outputs": [
        {
          "output_type": "stream",
          "name": "stdout",
          "text": [
            "Accuracy on Test Data: 0.7930\n"
          ]
        }
      ]
    },
    {
      "cell_type": "markdown",
      "source": [
        "- **On Average, the Fashion ANN-Classifier classifies an image into the correct Fashion Article 79.3% of the times on New Data**"
      ],
      "metadata": {
        "id": "6pOmXWVriee7"
      }
    },
    {
      "cell_type": "markdown",
      "source": [
        "![green-divider](https://user-images.githubusercontent.com/7065401/52071924-c003ad80-2562-11e9-8297-1c6595f8a7ff.png)\n",
        "\n"
      ],
      "metadata": {
        "id": "YKg5wV5RjXlE"
      }
    },
    {
      "cell_type": "markdown",
      "source": [
        "### Show Fashion Article and Model Prediction"
      ],
      "metadata": {
        "id": "pE7cDZYDjYVx"
      }
    },
    {
      "cell_type": "code",
      "source": [
        "# function to show predictions\n",
        "def show_predictions(num_predictions, y, predictions):\n",
        "\n",
        "  for i in range(num_predictions):\n",
        "\n",
        "    # choose random img\n",
        "    random_img = np.random.choice(y)\n",
        "\n",
        "    # label of random image\n",
        "    label = y[random_img]\n",
        "    # prediction of random image\n",
        "    y_hat = predictions[random_img]\n",
        "\n",
        "    print(f'Label:      {class_name(label)}')\n",
        "    print(f'Prediction: {class_name(y_hat)}', '\\n')\n",
        "\n",
        "    # store random image pixels\n",
        "    img = X_test[random_img, :]\n",
        "    # reshape >> (28, 28)\n",
        "    img = img.reshape(28, 28)\n",
        "    # visualize\n",
        "    plt.imshow(img, cmap='gray')\n",
        "    plt.grid(None)\n",
        "    plt.show()\n",
        "    print('\\n')\n"
      ],
      "metadata": {
        "id": "0PsGSquLjjNY"
      },
      "execution_count": null,
      "outputs": []
    },
    {
      "cell_type": "code",
      "source": [
        "# set number of predictions\n",
        "num_predictions = 4\n",
        "\n",
        "show_predictions(num_predictions, Y_test, predict_test)"
      ],
      "metadata": {
        "colab": {
          "base_uri": "https://localhost:8080/",
          "height": 1000
        },
        "id": "0l9jeDmYkafN",
        "outputId": "a71ad873-9219-4242-8320-1b167e522af8"
      },
      "execution_count": null,
      "outputs": [
        {
          "output_type": "stream",
          "name": "stdout",
          "text": [
            "Label:      Ankle Boot\n",
            "Prediction: Ankle Boot \n",
            "\n"
          ]
        },
        {
          "output_type": "display_data",
          "data": {
            "text/plain": [
              "<Figure size 640x480 with 1 Axes>"
            ],
            "image/png": "[encoded data removed]"
          },
          "metadata": {}
        },
        {
          "output_type": "stream",
          "name": "stdout",
          "text": [
            "\n",
            "\n",
            "Label:      T-shirt/Top\n",
            "Prediction: T-shirt/Top \n",
            "\n"
          ]
        },
        {
          "output_type": "display_data",
          "data": {
            "text/plain": [
              "<Figure size 640x480 with 1 Axes>"
            ],
            "image/png": "[encoded data removed]"
          },
          "metadata": {}
        },
        {
          "output_type": "stream",
          "name": "stdout",
          "text": [
            "\n",
            "\n",
            "Label:      Shirt\n",
            "Prediction: Shirt \n",
            "\n"
          ]
        },
        {
          "output_type": "display_data",
          "data": {
            "text/plain": [
              "<Figure size 640x480 with 1 Axes>"
            ],
            "image/png": "[encoded data removed]"
          },
          "metadata": {}
        },
        {
          "output_type": "stream",
          "name": "stdout",
          "text": [
            "\n",
            "\n",
            "Label:      Ankle Boot\n",
            "Prediction: Ankle Boot \n",
            "\n"
          ]
        },
        {
          "output_type": "display_data",
          "data": {
            "text/plain": [
              "<Figure size 640x480 with 1 Axes>"
            ],
            "image/png": "[encoded data removed]"
          },
          "metadata": {}
        },
        {
          "output_type": "stream",
          "name": "stdout",
          "text": [
            "\n",
            "\n"
          ]
        }
      ]
    },
    {
      "cell_type": "markdown",
      "source": [
        "![green-divider](https://user-images.githubusercontent.com/7065401/52071924-c003ad80-2562-11e9-8297-1c6595f8a7ff.png)\n",
        "\n"
      ],
      "metadata": {
        "id": "Hw3Ruu135cGm"
      }
    },
    {
      "cell_type": "markdown",
      "source": [
        "![purple-divider](https://user-images.githubusercontent.com/7065401/52071927-c1cd7100-2562-11e9-908a-dde91ba14e59.png)"
      ],
      "metadata": {
        "id": "1f-KlKK_Rejd"
      }
    }
  ]
}